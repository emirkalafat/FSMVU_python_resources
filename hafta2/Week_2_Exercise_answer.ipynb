{
 "cells": [
  {
   "cell_type": "markdown",
   "id": "caa94fd1",
   "metadata": {},
   "source": [
    "### Q1"
   ]
  },
  {
   "cell_type": "markdown",
   "id": "c731ee30",
   "metadata": {},
   "source": [
    "Use the third argument of the range() function to make a list of the odd numbers from 1 to 20. Use a for loop to print each number.\n",
    "\n",
    "**Expected Output:**</br>\n",
    "1</br>\n",
    "3</br>\n",
    "5</br>\n",
    "7</br>\n",
    "9</br>\n",
    "11</br>\n",
    "13</br>\n",
    "15</br>\n",
    "17</br>\n",
    "19</br>"
   ]
  },
  {
   "cell_type": "code",
   "execution_count": 1,
   "id": "4d00fd2a",
   "metadata": {},
   "outputs": [
    {
     "name": "stdout",
     "output_type": "stream",
     "text": [
      "1\n",
      "3\n",
      "5\n",
      "7\n",
      "9\n",
      "11\n",
      "13\n",
      "15\n",
      "17\n",
      "19\n"
     ]
    }
   ],
   "source": [
    "# YOUR CODE HERE\n",
    "for i in range(1,20,2):\n",
    "    print(i)\n",
    "\n",
    "################"
   ]
  },
  {
   "cell_type": "markdown",
   "id": "d2246799",
   "metadata": {},
   "source": [
    "### Q2\n",
    "\n",
    "Using this list = ['İstanbul', 34, 'Ahmet', 'Ankara', 6, False, 'İzmir', 35], add several lines to the end of the program that do the following:\n",
    "\n",
    "1) Print the first three items in the list by using the slicing technique. \n",
    "\n",
    "2) Print the three items in the middle of the list by using the slicing technique.\n",
    "\n",
    "3) Print the last three items in the list by using the slicing technique.\n",
    "\n",
    "**Expected Output**\n",
    "   \n",
    "- ['İstanbul', 34, 'Ahmet']\n",
    "- ['Ankara', 6, False]\n",
    "- [False, 'İzmir', 35]"
   ]
  },
  {
   "cell_type": "code",
   "execution_count": 3,
   "id": "066f5f58",
   "metadata": {},
   "outputs": [
    {
     "name": "stdout",
     "output_type": "stream",
     "text": [
      "['İstanbul', 34, 'Ahmet']\n",
      "['Ankara', 6, False]\n",
      "[False, 'İzmir', 35]\n"
     ]
    }
   ],
   "source": [
    "# YOUR CODE HERE\n",
    "liste = ['İstanbul', 34, 'Ahmet', 'Ankara', 6, False, 'İzmir', 35]\n",
    "print(liste[:3])\n",
    "orta=(len(liste)//2)-1\n",
    "print(liste[orta:orta+3])\n",
    "print(liste[-3:])\n",
    "################"
   ]
  },
  {
   "cell_type": "markdown",
   "id": "f827b8a0",
   "metadata": {},
   "source": [
    "### Q3\n",
    "\n",
    "Make a list containing the multiples of 3 between 3 and 30. Use a for loop to print the numbers in your list.\n",
    "\n",
    "**Expected Output**</br>\n",
    "3</br>\n",
    "6</br>\n",
    "9</br>\n",
    "12</br>\n",
    "15</br>\n",
    "18</br>\n",
    "21</br>\n",
    "24</br>\n",
    "27</br>\n",
    "30</br>\n"
   ]
  },
  {
   "cell_type": "code",
   "execution_count": 19,
   "id": "c398eec1",
   "metadata": {},
   "outputs": [
    {
     "name": "stdout",
     "output_type": "stream",
     "text": [
      "3\n",
      "6\n",
      "9\n",
      "12\n",
      "15\n",
      "18\n",
      "21\n",
      "24\n",
      "27\n",
      "30\n"
     ]
    }
   ],
   "source": [
    "# YOUR CODE HERE\n",
    "L = []\n",
    "for i in range(10):\n",
    "    L.append((i+1)*3)\n",
    "    print(L[i])\n",
    "################"
   ]
  },
  {
   "cell_type": "markdown",
   "id": "eeaf52f1",
   "metadata": {},
   "source": [
    "### Q4\n",
    "\n",
    "Write the python codes for each following item:\n",
    "\n",
    "1) Define a list of characters of the \"Ptyhon Programming\" (Define name of the list as language)\n",
    "\n",
    "2) The word Python is misspelled on this list. Replace this word with the characters of the word Python (use Slicing)\n",
    "\n",
    "3) Add the list of characters of the \"Language\" to the end of the language list.\n",
    "\n",
    "4) Add the \"-\" character after the Python word to the language list (insert function).\n",
    "\n",
    "5) Sort the elements in the language list (Alphabetical).\n",
    "\n",
    "6) Reverse the elements in the language list.\n",
    "\n",
    "7) Write on the screen, how many 'a' characters are in the language list.\n",
    "\n",
    "**Expected Output**\n",
    "1) ['P', 't', 'y', 'h', 'o', 'n', ' ', 'P', 'r', 'o', 'g', 'r', 'a', 'm', 'm', 'i', 'n', 'g']\n",
    "\n",
    "2) ['P', 'y', 't', 'h', 'o', 'n', ' ', 'P', 'r', 'o', 'g', 'r', 'a', 'm', 'm', 'i', 'n', 'g']\n",
    "\n",
    "3) ['P', 'y', 't', 'h', 'o', 'n', ' ', 'P', 'r', 'o', 'g', 'r', 'a', 'm', 'm', 'i', 'n', 'g', 'L', 'a', 'n', 'g', 'u', 'a', 'g', 'e']\n",
    "\n",
    "4) ['P', 'y', 't', 'h', 'o', 'n', '-', ' ', 'P', 'r', 'o', 'g', 'r', 'a', 'm', 'm', 'i', 'n', 'g', 'L', 'a', 'n', 'g', 'u', 'a', 'g', 'e']\n",
    "\n",
    "5) [' ', '-', 'L', 'P', 'P', 'a', 'a', 'a', 'e', 'g', 'g', 'g', 'g', 'h', 'i', 'm', 'm', 'n', 'n', 'n', 'o', 'o', 'r', 'r', 't', 'u', 'y']\n",
    "\n",
    "6) ['y', 'u', 't', 'r', 'r', 'o', 'o', 'n', 'n', 'n', 'm', 'm', 'i', 'h', 'g', 'g', 'g', 'g', 'e', 'a', 'a', 'a', 'P', 'P', 'L', '-', ' ']\n",
    "\n",
    "7) 3"
   ]
  },
  {
   "cell_type": "code",
   "execution_count": 17,
   "id": "145d2d6a",
   "metadata": {},
   "outputs": [
    {
     "name": "stdout",
     "output_type": "stream",
     "text": [
      "['P', 't', 'y', 'h', 'o', 'n', ' ', 'P', 'r', 'o', 'g', 'r', 'a', 'm', 'm', 'i', 'n', 'g']\n",
      "['P', 'y', 't', 'h', 'o', 'n', ' ', 'P', 'r', 'o', 'g', 'r', 'a', 'm', 'm', 'i', 'n', 'g']\n",
      "['P', 'y', 't', 'h', 'o', 'n', ' ', 'P', 'r', 'o', 'g', 'r', 'a', 'm', 'm', 'i', 'n', 'g', 'L', 'a', 'n', 'g', 'u', 'a', 'g', 'e']\n",
      "['P', 'y', 't', 'h', 'o', 'n', '-', ' ', 'P', 'r', 'o', 'g', 'r', 'a', 'm', 'm', 'i', 'n', 'g', 'L', 'a', 'n', 'g', 'u', 'a', 'g', 'e']\n",
      "[' ', '-', 'L', 'P', 'P', 'a', 'a', 'a', 'e', 'g', 'g', 'g', 'g', 'h', 'i', 'm', 'm', 'n', 'n', 'n', 'o', 'o', 'r', 'r', 't', 'u', 'y']\n",
      "['y', 'u', 't', 'r', 'r', 'o', 'o', 'n', 'n', 'n', 'm', 'm', 'i', 'h', 'g', 'g', 'g', 'g', 'e', 'a', 'a', 'a', 'P', 'P', 'L', '-', ' ']\n",
      "3\n"
     ]
    }
   ],
   "source": [
    "# YOUR CODE HERE\n",
    "language = list(\"Ptyhon Programming\")\n",
    "print(language)\n",
    "language[0:6] = \"Python\"\n",
    "print(language)\n",
    "language += list(\"Language\")\n",
    "print(language)\n",
    "language.insert(6,\"-\")\n",
    "print(language)\n",
    "language.sort()\n",
    "print(language)\n",
    "language.reverse()\n",
    "print(language)\n",
    "print(language.count(\"a\"))\n",
    "################"
   ]
  },
  {
   "cell_type": "markdown",
   "id": "50df8519",
   "metadata": {},
   "source": [
    "### Q5\n",
    "Generate a list containing the cubes of the first ten numbers by using a **list comprehension**, and print that list\n",
    "\n",
    "**Expected Output**\n",
    "\n",
    "[1, 8, 27, 64, 125, 216, 343, 512, 729, 1000]\n",
    "\n"
   ]
  },
  {
   "cell_type": "code",
   "execution_count": 15,
   "id": "f227f0f3",
   "metadata": {},
   "outputs": [
    {
     "data": {
      "text/plain": "[1, 8, 27, 64, 125, 216, 343, 512, 729, 1000]"
     },
     "execution_count": 15,
     "metadata": {},
     "output_type": "execute_result"
    }
   ],
   "source": [
    "# YOUR CODE HERE\n",
    "L = [i**3 for i in range(1,11)]\n",
    "L\n",
    "################"
   ]
  },
  {
   "cell_type": "code",
   "execution_count": null,
   "outputs": [],
   "source": [],
   "metadata": {
    "collapsed": false,
    "pycharm": {
     "name": "#%%\n"
    }
   }
  }
 ],
 "metadata": {
  "kernelspec": {
   "display_name": "Python 3 (ipykernel)",
   "language": "python",
   "name": "python3"
  },
  "language_info": {
   "codemirror_mode": {
    "name": "ipython",
    "version": 3
   },
   "file_extension": ".py",
   "mimetype": "text/x-python",
   "name": "python",
   "nbconvert_exporter": "python",
   "pygments_lexer": "ipython3",
   "version": "3.9.7"
  }
 },
 "nbformat": 4,
 "nbformat_minor": 5
}