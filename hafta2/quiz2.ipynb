{
 "cells": [
  {
   "cell_type": "code",
   "execution_count": 2,
   "outputs": [
    {
     "data": {
      "text/plain": "<generator object <genexpr> at 0x0000012D51C13ED0>"
     },
     "execution_count": 2,
     "metadata": {},
     "output_type": "execute_result"
    }
   ],
   "source": [
    "items = ['computer', 'phone', 'tv', 'tv', 'computer', 'tv', 'game console', 'tv', 'computer']\n",
    "\n",
    "[[x,items.count(x)] for x in set(items)]"
   ],
   "metadata": {
    "collapsed": false,
    "pycharm": {
     "name": "#%%\n"
    }
   }
  },
  {
   "cell_type": "code",
   "execution_count": 3,
   "outputs": [
    {
     "ename": "NameError",
     "evalue": "name 'i' is not defined",
     "output_type": "error",
     "traceback": [
      "\u001B[1;31m---------------------------------------------------------------------------\u001B[0m",
      "\u001B[1;31mNameError\u001B[0m                                 Traceback (most recent call last)",
      "Input \u001B[1;32mIn [3]\u001B[0m, in \u001B[0;36m<module>\u001B[1;34m\u001B[0m\n\u001B[0;32m      1\u001B[0m student_details\u001B[38;5;241m=\u001B[39m [\n\u001B[0;32m      2\u001B[0m   {\u001B[38;5;124m'\u001B[39m\u001B[38;5;124mid\u001B[39m\u001B[38;5;124m'\u001B[39m : \u001B[38;5;241m1\u001B[39m, \u001B[38;5;124m'\u001B[39m\u001B[38;5;124msubject\u001B[39m\u001B[38;5;124m'\u001B[39m : \u001B[38;5;124m'\u001B[39m\u001B[38;5;124mmath\u001B[39m\u001B[38;5;124m'\u001B[39m, \u001B[38;5;124m'\u001B[39m\u001B[38;5;124mMidterm\u001B[39m\u001B[38;5;124m'\u001B[39m : \u001B[38;5;241m70\u001B[39m, \u001B[38;5;124m'\u001B[39m\u001B[38;5;124mFinal\u001B[39m\u001B[38;5;124m'\u001B[39m : \u001B[38;5;241m82\u001B[39m},\n\u001B[0;32m      3\u001B[0m   {\u001B[38;5;124m'\u001B[39m\u001B[38;5;124mid\u001B[39m\u001B[38;5;124m'\u001B[39m : \u001B[38;5;241m2\u001B[39m, \u001B[38;5;124m'\u001B[39m\u001B[38;5;124msubject\u001B[39m\u001B[38;5;124m'\u001B[39m : \u001B[38;5;124m'\u001B[39m\u001B[38;5;124mmath\u001B[39m\u001B[38;5;124m'\u001B[39m, \u001B[38;5;124m'\u001B[39m\u001B[38;5;124mMidterm\u001B[39m\u001B[38;5;124m'\u001B[39m : \u001B[38;5;241m73\u001B[39m, \u001B[38;5;124m'\u001B[39m\u001B[38;5;124mFinal\u001B[39m\u001B[38;5;124m'\u001B[39m : \u001B[38;5;241m74\u001B[39m},\n\u001B[0;32m      4\u001B[0m   {\u001B[38;5;124m'\u001B[39m\u001B[38;5;124mid\u001B[39m\u001B[38;5;124m'\u001B[39m : \u001B[38;5;241m3\u001B[39m, \u001B[38;5;124m'\u001B[39m\u001B[38;5;124msubject\u001B[39m\u001B[38;5;124m'\u001B[39m : \u001B[38;5;124m'\u001B[39m\u001B[38;5;124mmath\u001B[39m\u001B[38;5;124m'\u001B[39m, \u001B[38;5;124m'\u001B[39m\u001B[38;5;124mMidterm\u001B[39m\u001B[38;5;124m'\u001B[39m : \u001B[38;5;241m75\u001B[39m, \u001B[38;5;124m'\u001B[39m\u001B[38;5;124mFinal\u001B[39m\u001B[38;5;124m'\u001B[39m : \u001B[38;5;241m86\u001B[39m}\n\u001B[0;32m      5\u001B[0m ]\n\u001B[1;32m----> 6\u001B[0m \u001B[38;5;28mprint\u001B[39m((\u001B[38;5;28msum\u001B[39m(data[\u001B[38;5;124m'\u001B[39m\u001B[38;5;124mMidterm\u001B[39m\u001B[38;5;124m'\u001B[39m])\u001B[38;5;241m+\u001B[39m\u001B[38;5;28msum\u001B[39m(data[\u001B[38;5;124m'\u001B[39m\u001B[38;5;124mFinal\u001B[39m\u001B[38;5;124m'\u001B[39m]))\u001B[38;5;241m/\u001B[39m\u001B[38;5;28mlen\u001B[39m(data[\u001B[38;5;124m'\u001B[39m\u001B[38;5;124mid\u001B[39m\u001B[38;5;124m'\u001B[39m]) \u001B[38;5;28;01mfor\u001B[39;00m data \u001B[38;5;129;01min\u001B[39;00m student_details[\u001B[43mi\u001B[49m] \u001B[38;5;28;01mfor\u001B[39;00m i \u001B[38;5;129;01min\u001B[39;00m student_details)\n",
      "\u001B[1;31mNameError\u001B[0m: name 'i' is not defined"
     ]
    }
   ],
   "source": [
    "student_details= [\n",
    "  {'id' : 1, 'subject' : 'math', 'Midterm' : 70, 'Final' : 82},\n",
    "  {'id' : 2, 'subject' : 'math', 'Midterm' : 73, 'Final' : 74},\n",
    "  {'id' : 3, 'subject' : 'math', 'Midterm' : 75, 'Final' : 86}\n",
    "]\n",
    "print((sum(data['Midterm'])+sum(data['Final']))/len(data['id']) for data in student_details[i] for i in student_details)\n",
    "\n",
    "#print(student_details[i].items() for i in student_details)"
   ],
   "metadata": {
    "collapsed": false,
    "pycharm": {
     "name": "#%%\n"
    }
   }
  },
  {
   "cell_type": "code",
   "execution_count": 5,
   "outputs": [
    {
     "ename": "ValueError",
     "evalue": "<generator object <genexpr> at 0x0000012D537E5E70> is not in list",
     "output_type": "error",
     "traceback": [
      "\u001B[1;31m---------------------------------------------------------------------------\u001B[0m",
      "\u001B[1;31mValueError\u001B[0m                                Traceback (most recent call last)",
      "Input \u001B[1;32mIn [5]\u001B[0m, in \u001B[0;36m<module>\u001B[1;34m\u001B[0m\n\u001B[0;32m      1\u001B[0m student_details\u001B[38;5;241m=\u001B[39m [\n\u001B[0;32m      2\u001B[0m   {\u001B[38;5;124m'\u001B[39m\u001B[38;5;124mid\u001B[39m\u001B[38;5;124m'\u001B[39m : \u001B[38;5;241m1\u001B[39m, \u001B[38;5;124m'\u001B[39m\u001B[38;5;124msubject\u001B[39m\u001B[38;5;124m'\u001B[39m : {\u001B[38;5;124m'\u001B[39m\u001B[38;5;124mmath\u001B[39m\u001B[38;5;124m'\u001B[39m: [\u001B[38;5;241m70\u001B[39m, \u001B[38;5;241m82\u001B[39m], \u001B[38;5;124m'\u001B[39m\u001B[38;5;124mcs\u001B[39m\u001B[38;5;124m'\u001B[39m: [\u001B[38;5;241m75\u001B[39m, \u001B[38;5;241m87\u001B[39m]}},\n\u001B[0;32m      3\u001B[0m   {\u001B[38;5;124m'\u001B[39m\u001B[38;5;124mid\u001B[39m\u001B[38;5;124m'\u001B[39m : \u001B[38;5;241m2\u001B[39m, \u001B[38;5;124m'\u001B[39m\u001B[38;5;124msubject\u001B[39m\u001B[38;5;124m'\u001B[39m : {\u001B[38;5;124m'\u001B[39m\u001B[38;5;124mmath\u001B[39m\u001B[38;5;124m'\u001B[39m: [\u001B[38;5;241m73\u001B[39m, \u001B[38;5;241m74\u001B[39m], \u001B[38;5;124m'\u001B[39m\u001B[38;5;124mcs\u001B[39m\u001B[38;5;124m'\u001B[39m: [\u001B[38;5;241m78\u001B[39m, \u001B[38;5;241m79\u001B[39m]}},\n\u001B[0;32m      4\u001B[0m   {\u001B[38;5;124m'\u001B[39m\u001B[38;5;124mid\u001B[39m\u001B[38;5;124m'\u001B[39m : \u001B[38;5;241m3\u001B[39m, \u001B[38;5;124m'\u001B[39m\u001B[38;5;124msubject\u001B[39m\u001B[38;5;124m'\u001B[39m : {\u001B[38;5;124m'\u001B[39m\u001B[38;5;124mmath\u001B[39m\u001B[38;5;124m'\u001B[39m: [\u001B[38;5;241m75\u001B[39m, \u001B[38;5;241m86\u001B[39m], \u001B[38;5;124m'\u001B[39m\u001B[38;5;124mcs\u001B[39m\u001B[38;5;124m'\u001B[39m: [\u001B[38;5;241m80\u001B[39m, \u001B[38;5;241m91\u001B[39m]}}\n\u001B[0;32m      5\u001B[0m ]\n\u001B[1;32m----> 7\u001B[0m \u001B[38;5;28mprint\u001B[39m(x \u001B[38;5;28;01mfor\u001B[39;00m x \u001B[38;5;129;01min\u001B[39;00m \u001B[43mstudent_details\u001B[49m\u001B[38;5;241;43m.\u001B[39;49m\u001B[43mindex\u001B[49m\u001B[43m(\u001B[49m\u001B[43mi\u001B[49m\u001B[43m \u001B[49m\u001B[38;5;28;43;01mfor\u001B[39;49;00m\u001B[43m \u001B[49m\u001B[43mi\u001B[49m\u001B[43m \u001B[49m\u001B[38;5;129;43;01min\u001B[39;49;00m\u001B[43m \u001B[49m\u001B[43mstudent_details\u001B[49m\u001B[43m)\u001B[49m )\n",
      "\u001B[1;31mValueError\u001B[0m: <generator object <genexpr> at 0x0000012D537E5E70> is not in list"
     ]
    }
   ],
   "source": [
    "student_details= [\n",
    "  {'id' : 1, 'subject' : {'math': [70, 82], 'cs': [75, 87]}},\n",
    "  {'id' : 2, 'subject' : {'math': [73, 74], 'cs': [78, 79]}},\n",
    "  {'id' : 3, 'subject' : {'math': [75, 86], 'cs': [80, 91]}}\n",
    "]\n",
    "\n",
    "print(x for x in student_details.index(i for i in student_details) )"
   ],
   "metadata": {
    "collapsed": false,
    "pycharm": {
     "name": "#%%\n"
    }
   }
  },
  {
   "cell_type": "code",
   "execution_count": null,
   "outputs": [],
   "source": [],
   "metadata": {
    "collapsed": false,
    "pycharm": {
     "name": "#%%\n"
    }
   }
  }
 ],
 "metadata": {
  "kernelspec": {
   "display_name": "Python 3",
   "language": "python",
   "name": "python3"
  },
  "language_info": {
   "codemirror_mode": {
    "name": "ipython",
    "version": 2
   },
   "file_extension": ".py",
   "mimetype": "text/x-python",
   "name": "python",
   "nbconvert_exporter": "python",
   "pygments_lexer": "ipython2",
   "version": "2.7.6"
  }
 },
 "nbformat": 4,
 "nbformat_minor": 0
}