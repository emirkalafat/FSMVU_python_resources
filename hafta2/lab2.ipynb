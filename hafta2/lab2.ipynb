{
 "cells": [
  {
   "cell_type": "code",
   "execution_count": 1,
   "metadata": {
    "collapsed": true
   },
   "outputs": [
    {
     "name": "stdout",
     "output_type": "stream",
     "text": [
      "30 is greater than 15\n"
     ]
    }
   ],
   "source": [
    "number1 = 15\n",
    "number2 = 30\n",
    "if number1 < number2:\n",
    "    print(f\"{number2} is greater than {number1}\")"
   ]
  },
  {
   "cell_type": "code",
   "execution_count": 2,
   "outputs": [
    {
     "name": "stdout",
     "output_type": "stream",
     "text": [
      "gecer\n"
     ]
    }
   ],
   "source": [
    "grade = 70\n",
    "if grade > 90:\n",
    "    print(\"AA\")\n",
    "elif grade < 90 and grade > 50:\n",
    "    print(\"gecer\")\n",
    "elif grade < 50:\n",
    "    print(\"kaldın gg\")"
   ],
   "metadata": {
    "collapsed": false,
    "pycharm": {
     "name": "#%%\n"
    }
   }
  },
  {
   "cell_type": "code",
   "execution_count": 3,
   "outputs": [
    {
     "name": "stdout",
     "output_type": "stream",
     "text": [
      "True\n",
      "False\n"
     ]
    }
   ],
   "source": [
    "fruits = ['apple', 'grapes', 'strawberry', 'banana']\n",
    "\n",
    "print(\"strawberry\" in fruits)\n",
    "print(\"strawberry\" not in fruits)"
   ],
   "metadata": {
    "collapsed": false,
    "pycharm": {
     "name": "#%%\n"
    }
   }
  },
  {
   "cell_type": "code",
   "execution_count": 4,
   "outputs": [
    {
     "name": "stdout",
     "output_type": "stream",
     "text": [
      "True\n"
     ]
    }
   ],
   "source": [
    "result = True if 'apple' in fruits else False\n",
    "print(result)"
   ],
   "metadata": {
    "collapsed": false,
    "pycharm": {
     "name": "#%%\n"
    }
   }
  },
  {
   "cell_type": "code",
   "execution_count": 5,
   "outputs": [
    {
     "name": "stdout",
     "output_type": "stream",
     "text": [
      "25\n"
     ]
    }
   ],
   "source": [
    "n1 = 25\n",
    "n2 = 12\n",
    "_max = n1 if n1 > n2 else n2\n",
    "print(_max)"
   ],
   "metadata": {
    "collapsed": false,
    "pycharm": {
     "name": "#%%\n"
    }
   }
  },
  {
   "cell_type": "code",
   "execution_count": 8,
   "outputs": [
    {
     "name": "stdout",
     "output_type": "stream",
     "text": [
      "cantandaki ürünler ['laptop']\n"
     ]
    }
   ],
   "source": [
    "magaza = ['laptop','phone','tv','microwave','oven']\n",
    "canta = []\n",
    "\n",
    "if 'laptop' in magaza:\n",
    "    canta.append('laptop')\n",
    "else:\n",
    "    print('stokta yok')\n",
    "\n",
    "print(\"cantandaki ürünler\", canta)"
   ],
   "metadata": {
    "collapsed": false,
    "pycharm": {
     "name": "#%%\n"
    }
   }
  },
  {
   "cell_type": "code",
   "execution_count": 9,
   "outputs": [
    {
     "name": "stdout",
     "output_type": "stream",
     "text": [
      "['tv', 'oven']\n"
     ]
    }
   ],
   "source": [
    "canta = [item for item in magaza if item == 'oven' or item == 'tv']\n",
    "print(canta)"
   ],
   "metadata": {
    "collapsed": false,
    "pycharm": {
     "name": "#%%\n"
    }
   }
  },
  {
   "cell_type": "code",
   "execution_count": 10,
   "outputs": [
    {
     "name": "stdout",
     "output_type": "stream",
     "text": [
      "[0, 1, 8, 3, 64, 5, 216, 7, 512, 9, 1000, 11, 1728, 13, 2744, 15, 4096, 17, 5832, 19]\n"
     ]
    }
   ],
   "source": [
    "print([i**3 if i % 2 == 0 else i for i in range(20)])"
   ],
   "metadata": {
    "collapsed": false,
    "pycharm": {
     "name": "#%%\n"
    }
   }
  },
  {
   "cell_type": "code",
   "execution_count": null,
   "outputs": [],
   "source": [],
   "metadata": {
    "collapsed": false,
    "pycharm": {
     "name": "#%%\n"
    }
   }
  }
 ],
 "metadata": {
  "kernelspec": {
   "display_name": "Python 3",
   "language": "python",
   "name": "python3"
  },
  "language_info": {
   "codemirror_mode": {
    "name": "ipython",
    "version": 2
   },
   "file_extension": ".py",
   "mimetype": "text/x-python",
   "name": "python",
   "nbconvert_exporter": "python",
   "pygments_lexer": "ipython2",
   "version": "2.7.6"
  }
 },
 "nbformat": 4,
 "nbformat_minor": 0
}