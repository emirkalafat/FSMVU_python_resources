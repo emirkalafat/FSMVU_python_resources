{
 "cells": [
  {
   "cell_type": "markdown",
   "metadata": {},
   "source": [
    "### If - Else Statements"
   ]
  },
  {
   "cell_type": "code",
   "execution_count": 1,
   "metadata": {},
   "outputs": [
    {
     "name": "stdout",
     "output_type": "stream",
     "text": [
      "Number_1 lower than Number_2\n"
     ]
    }
   ],
   "source": [
    "number_1 = 15\n",
    "number_2 = 25\n",
    "\n",
    "if number_1 > number_2:\n",
    "    print(\"Number_1 greater than Number_2\")\n",
    "elif number_1 == number_2:\n",
    "    print(\"Number_1 is equal to Number_2\")\n",
    "else:\n",
    "    print('Number_1 lower than Number_2')\n",
    "    "
   ]
  },
  {
   "cell_type": "code",
   "execution_count": 3,
   "metadata": {},
   "outputs": [
    {
     "name": "stdout",
     "output_type": "stream",
     "text": [
      "BB\n"
     ]
    }
   ],
   "source": [
    "grade = 76\n",
    "\n",
    "if grade > 90:\n",
    "    print(\"AA\")\n",
    "elif grade < 90 and grade >= 85:\n",
    "    print(\"BA\")\n",
    "elif grade < 85 and grade >= 75:\n",
    "    print(\"BB\")\n",
    "elif grade < 75 and grade >= 65:\n",
    "    print(\"CB\")\n",
    "elif grade < 65 and grade >= 50:\n",
    "    print(\"CC\")\n",
    "else:\n",
    "    print(\"FF\")"
   ]
  },
  {
   "cell_type": "code",
   "execution_count": 5,
   "metadata": {},
   "outputs": [
    {
     "name": "stdout",
     "output_type": "stream",
     "text": [
      "Login Successfull!\n"
     ]
    }
   ],
   "source": [
    "username = 'admin'\n",
    "password = 'admin123'\n",
    "\n",
    "if username == 'admin':\n",
    "    if password == 'admin123':\n",
    "        print(\"Login Successfull!\")\n",
    "    elif password != 'admin123':\n",
    "        print(\"Wrong Password\")\n",
    "else:\n",
    "    print(\"Wrong Username\")"
   ]
  },
  {
   "cell_type": "code",
   "execution_count": 8,
   "metadata": {},
   "outputs": [
    {
     "name": "stdout",
     "output_type": "stream",
     "text": [
      "True\n",
      "False\n"
     ]
    }
   ],
   "source": [
    "fruits = ['apple', 'grapes', 'strawberry', 'banana']\n",
    "\n",
    "print(\"strawberry\" in fruits)\n",
    "print(\"strawberry\" not in fruits)"
   ]
  },
  {
   "cell_type": "markdown",
   "metadata": {},
   "source": [
    "### Ternary Operator"
   ]
  },
  {
   "cell_type": "code",
   "execution_count": 11,
   "metadata": {},
   "outputs": [
    {
     "name": "stdout",
     "output_type": "stream",
     "text": [
      "False\n"
     ]
    }
   ],
   "source": [
    "result = True if 'orange' in fruits else False\n",
    "print(result)"
   ]
  },
  {
   "cell_type": "code",
   "execution_count": 13,
   "metadata": {},
   "outputs": [
    {
     "name": "stdout",
     "output_type": "stream",
     "text": [
      "25\n"
     ]
    }
   ],
   "source": [
    "n1 = 25\n",
    "n2 = 12\n",
    "_max = n1 if n1 > n2 else n2\n",
    "print(_max)"
   ]
  },
  {
   "cell_type": "code",
   "execution_count": 14,
   "metadata": {},
   "outputs": [
    {
     "name": "stdout",
     "output_type": "stream",
     "text": [
      "Mobile Phone added to your basket\n",
      "Laptop added to your basket\n",
      "Your Basket: ['Mobile Phone', 'Laptop']\n"
     ]
    }
   ],
   "source": [
    "stockList = ['Mobile Phone', 'Laptop', 'Printer', 'Game Console']\n",
    "basket = []\n",
    "\n",
    "if 'Mobile Phone' in stockList:\n",
    "    basket.append('Mobile Phone')\n",
    "    print('Mobile Phone added to your basket')\n",
    "if 'Laptop' in stockList:\n",
    "    basket.append('Laptop')\n",
    "    print('Laptop added to your basket')\n",
    "\n",
    "print(\"Your Basket:\", basket)"
   ]
  },
  {
   "cell_type": "code",
   "execution_count": 16,
   "metadata": {},
   "outputs": [
    {
     "name": "stdout",
     "output_type": "stream",
     "text": [
      "['Mobile Phone', 'Laptop']\n"
     ]
    }
   ],
   "source": [
    "basket = [item for item in stockList if item == 'Mobile Phone' or item == 'Laptop']\n",
    "print(basket)"
   ]
  },
  {
   "cell_type": "code",
   "execution_count": 22,
   "metadata": {},
   "outputs": [
    {
     "name": "stdout",
     "output_type": "stream",
     "text": [
      "Search Result: Python Dictionary\n",
      "Search Result: Python dictionary parameters\n",
      "Search Result: How to use dictionary in python\n"
     ]
    }
   ],
   "source": [
    "results = ['Python Dictionary', 'Python dictionary parameters', 'How to use dictionary in python', 'java data types']\n",
    "key = 'Python Dictionary'.lower()\n",
    "\n",
    "for result in results:\n",
    "    if key in result.lower():\n",
    "        print('Search Result:', result)\n",
    "    elif key.split(' ')[0].lower() in result.lower():\n",
    "        print('Search Result:', result)\n",
    "    elif key.split(' ')[1].lower() in result.lower():\n",
    "        print('Search Result:', result)"
   ]
  },
  {
   "cell_type": "code",
   "execution_count": 17,
   "metadata": {},
   "outputs": [
    {
     "name": "stdout",
     "output_type": "stream",
     "text": [
      "[0, 1, 8, 3, 64, 5, 216, 7, 512, 9, 1000, 11, 1728, 13, 2744, 15, 4096, 17, 5832, 19]\n"
     ]
    }
   ],
   "source": [
    "print([i**3 if i % 2 == 0 else i for i in range(20)])"
   ]
  },
  {
   "cell_type": "code",
   "execution_count": null,
   "metadata": {},
   "outputs": [],
   "source": []
  }
 ],
 "metadata": {
  "kernelspec": {
   "display_name": "Python 3 (ipykernel)",
   "language": "python",
   "name": "python3"
  },
  "language_info": {
   "codemirror_mode": {
    "name": "ipython",
    "version": 3
   },
   "file_extension": ".py",
   "mimetype": "text/x-python",
   "name": "python",
   "nbconvert_exporter": "python",
   "pygments_lexer": "ipython3",
   "version": "3.9.7"
  }
 },
 "nbformat": 4,
 "nbformat_minor": 2
}
