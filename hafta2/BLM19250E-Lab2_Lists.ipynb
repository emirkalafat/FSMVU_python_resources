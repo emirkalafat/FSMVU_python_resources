{
 "cells": [
  {
   "cell_type": "markdown",
   "metadata": {},
   "source": [
    "### Common list literals and operations\n",
    "    Operation                          Interpretation\n",
    "    L = []                             An empty list\n",
    "    L = [123, 'abc', 1.23, {}]         Four items: indexes 0..3\n",
    "    L = ['Bob', 40.0, ['dev', 'mgr']]  Nested sublists\n",
    "    L = list('spam')                   List of an iterable’s items, list of successive integers\n",
    "    L = list(range(-4, 4))\n",
    "    L[i]                               Index, index of index, slice, length\n",
    "    L[i][j]\n",
    "    L[i:j]\n",
    "    len(L)\n",
    "    L1 + L2                            Concatenate, repeat\n",
    "    L * 3\n",
    "    for x in L: print(x)               Iteration, membership\n",
    "    3 in L\n",
    "    L.append(4)                        Methods: growing\n",
    "    L.extend([5,6,7])                  L.insert(i, X)\n",
    "    L.index(X)                         Methods: searching\n",
    "    L.count(X)\n",
    "    L.sort()                           Methods: sorting, reversing,\n",
    "    L.reverse()                        \n",
    "    L.copy()\n",
    "    L.clear()\n",
    "    L.pop(i)                           Methods, statements: shrinking\n",
    "    L.remove(X)\n",
    "    del L[i]\n",
    "    del L[i:j]\n",
    "    L[i:j] = []\n",
    "    L[i] = 3                           Index assignment, slice assignment\n",
    "    L[i:j] = [4,5,6]\n",
    "    L = [x**2 for x in range(5)]       List comprehensions and maps\n",
    "    list(map(ord, 'spam'))s"
   ]
  },
  {
   "cell_type": "markdown",
   "metadata": {},
   "source": [
    "### Create Basic List"
   ]
  },
  {
   "cell_type": "code",
   "execution_count": 1,
   "metadata": {},
   "outputs": [
    {
     "name": "stdout",
     "output_type": "stream",
     "text": [
      "['Istanbul', 'Izmir', 'Ankara']\n"
     ]
    }
   ],
   "source": [
    "cities = ['Istanbul', 'Izmir', 'Ankara']\n",
    "print(cities)"
   ]
  },
  {
   "cell_type": "code",
   "execution_count": 1,
   "metadata": {},
   "outputs": [
    {
     "name": "stdout",
     "output_type": "stream",
     "text": [
      "['Istanbul', 34, 'Izmir', 35, 'Ankara', 6]\n"
     ]
    }
   ],
   "source": [
    "mixList = ['Istanbul',34,'Izmir',35,'Ankara',6]\n",
    "print(mixList)"
   ]
  },
  {
   "cell_type": "code",
   "execution_count": 3,
   "metadata": {},
   "outputs": [
    {
     "name": "stdout",
     "output_type": "stream",
     "text": [
      "[5, 6, 7, 8, 9, 10, 11, 12, 13, 14]\n"
     ]
    }
   ],
   "source": [
    "numberList = list(range(5,15))\n",
    "print(numberList)"
   ]
  },
  {
   "cell_type": "code",
   "execution_count": 4,
   "metadata": {},
   "outputs": [
    {
     "name": "stdout",
     "output_type": "stream",
     "text": [
      "['P', 'y', 't', 'h', 'o', 'n', ' ', 'L', 'a', 'n', 'g', 'u', 'a', 'g', 'e']\n"
     ]
    }
   ],
   "source": [
    "characterList = list('Python Language')\n",
    "print(characterList)"
   ]
  },
  {
   "cell_type": "markdown",
   "metadata": {},
   "source": [
    "### Accessing Elements in a List"
   ]
  },
  {
   "cell_type": "code",
   "execution_count": 1,
   "metadata": {},
   "outputs": [
    {
     "name": "stdout",
     "output_type": "stream",
     "text": [
      "Istanbul\n",
      "Ankara\n",
      "6\n"
     ]
    }
   ],
   "source": [
    "mixList = ['Istanbul',34,'Izmir',35,'Ankara',6]\n",
    "\n",
    "print(mixList[0])\n",
    "print(mixList[-2])\n",
    "print(mixList[len(mixList) - 1])"
   ]
  },
  {
   "cell_type": "code",
   "execution_count": 2,
   "metadata": {},
   "outputs": [
    {
     "name": "stdout",
     "output_type": "stream",
     "text": [
      "['Istanbul', 34, 'Izmir', 35, 'Ankara']\n"
     ]
    }
   ],
   "source": [
    "print(mixList[0:5]) # Slicing"
   ]
  },
  {
   "cell_type": "code",
   "execution_count": 3,
   "metadata": {},
   "outputs": [
    {
     "name": "stdout",
     "output_type": "stream",
     "text": [
      "['Istanbul', 'Izmir', 'Ankara']\n",
      "['Istanbul', 'Izmir', 'Ankara']\n",
      "['Istanbul', 'Izmir', 'Ankara']\n",
      "['Istanbul', 'Izmir', 'Ankara']\n"
     ]
    }
   ],
   "source": [
    "\"\"\"\n",
    "print(mixList[0::2])\n",
    "print(mixList[0:-1:2])\n",
    "print(mixList[:-1:2])\n",
    "\"\"\"\n",
    "print(mixList[::2])"
   ]
  },
  {
   "cell_type": "code",
   "execution_count": 18,
   "metadata": {},
   "outputs": [
    {
     "name": "stdout",
     "output_type": "stream",
     "text": [
      "[6, 'Ankara', 35, 'Izmir', 34, 'Istanbul']\n"
     ]
    }
   ],
   "source": [
    "print(mixList[::-1])"
   ]
  },
  {
   "cell_type": "markdown",
   "metadata": {},
   "source": [
    "### Adding Elements to a List"
   ]
  },
  {
   "cell_type": "markdown",
   "metadata": {},
   "source": [
    "#### Appending Elements to the End of a List"
   ]
  },
  {
   "cell_type": "code",
   "execution_count": 20,
   "metadata": {
    "scrolled": true
   },
   "outputs": [
    {
     "name": "stdout",
     "output_type": "stream",
     "text": [
      "['Python', 'Java', 'C', 'C++', 'R']\n"
     ]
    }
   ],
   "source": [
    "languages = ['Python', 'Java', 'C', 'C++']\n",
    "languages.append('R')\n",
    "print(languages)"
   ]
  },
  {
   "cell_type": "code",
   "execution_count": 21,
   "metadata": {},
   "outputs": [
    {
     "name": "stdout",
     "output_type": "stream",
     "text": [
      "['Python', 'Java', 'C', 'C++', 'R', ['Rust', 'Dart']]\n"
     ]
    }
   ],
   "source": [
    "languages.append(['Rust', 'Dart'])\n",
    "print(languages)"
   ]
  },
  {
   "cell_type": "code",
   "execution_count": 22,
   "metadata": {},
   "outputs": [
    {
     "name": "stdout",
     "output_type": "stream",
     "text": [
      "['Python', 'Java', 'C', 'C++', 'R', ['Rust', 'Dart'], 'PHP', 'Javascript']\n"
     ]
    }
   ],
   "source": [
    "# Alternative\n",
    "\n",
    "languages[len(languages):] = ['PHP','Javascript']\n",
    "print(languages)"
   ]
  },
  {
   "cell_type": "code",
   "execution_count": 23,
   "outputs": [
    {
     "name": "stdout",
     "output_type": "stream",
     "text": [
      "['Python', 'Java', 'C', 'C++', 'R', ['Rust', 'Dart'], 'PHP', 'anan', 'baban']\n"
     ]
    }
   ],
   "source": [
    "languages[len(languages)-1:] = ['anan','baban']\n",
    "print(languages)"
   ],
   "metadata": {
    "collapsed": false,
    "pycharm": {
     "name": "#%%\n"
    }
   }
  },
  {
   "cell_type": "markdown",
   "metadata": {},
   "source": [
    "#### Extend Keyword"
   ]
  },
  {
   "cell_type": "code",
   "execution_count": 25,
   "metadata": {},
   "outputs": [
    {
     "name": "stdout",
     "output_type": "stream",
     "text": [
      "['Python', 'Java', 'C', 'C++', 'R', 'Rust', 'Dart']\n"
     ]
    }
   ],
   "source": [
    "languages = ['Python', 'Java', 'C', 'C++']\n",
    "languages.append('R')\n",
    "languages.extend(['Rust', 'Dart'])\n",
    "print(languages)"
   ]
  },
  {
   "cell_type": "code",
   "execution_count": 27,
   "outputs": [
    {
     "name": "stdout",
     "output_type": "stream",
     "text": [
      "['Python', 'Java', 'C', 'C++', 'R', 'Rust', 'Dart', 'anneciğin', 'babacığın', ['anneciğin', 'babacığın']]\n"
     ]
    }
   ],
   "source": [
    "languages.append(['anneciğin','babacığın'])\n",
    "print(languages)"
   ],
   "metadata": {
    "collapsed": false,
    "pycharm": {
     "name": "#%%\n"
    }
   }
  },
  {
   "cell_type": "markdown",
   "metadata": {},
   "source": [
    "\n",
    "#### Inserting Elements into a List"
   ]
  },
  {
   "cell_type": "code",
   "execution_count": 28,
   "metadata": {},
   "outputs": [
    {
     "name": "stdout",
     "output_type": "stream",
     "text": [
      "['Ford', 'Hyundai', 'Fiat']\n"
     ]
    }
   ],
   "source": [
    "brands = ['Hyundai', 'Fiat']\n",
    "brands.insert(0, 'Ford')\n",
    "print(brands)"
   ]
  },
  {
   "cell_type": "code",
   "execution_count": 29,
   "metadata": {},
   "outputs": [
    {
     "name": "stdout",
     "output_type": "stream",
     "text": [
      "['Ford', ['Lexus', 'Nissan'], 'Hyundai', 'Fiat']\n"
     ]
    }
   ],
   "source": [
    "brands.insert(1, ['Lexus', 'Nissan'])\n",
    "print(brands)"
   ]
  },
  {
   "cell_type": "code",
   "execution_count": 33,
   "metadata": {},
   "outputs": [
    {
     "name": "stdout",
     "output_type": "stream",
     "text": [
      "['Ford', ['Lexus', 'Nissan'], 'Hyundai', 'Fiat', 'TOGG', 'TOGG', 'TOGG', 'TOGG']\n"
     ]
    }
   ],
   "source": [
    "brands.insert(len(brands), 'TOGG')\n",
    "print(brands)"
   ]
  },
  {
   "cell_type": "markdown",
   "metadata": {},
   "source": [
    "### Concatenate List"
   ]
  },
  {
   "cell_type": "code",
   "execution_count": 34,
   "metadata": {},
   "outputs": [
    {
     "name": "stdout",
     "output_type": "stream",
     "text": [
      "['A', 'B', 14, 'C', 'D', 23]\n"
     ]
    }
   ],
   "source": [
    "L1 = ['A', 'B', 14]\n",
    "L2 = ['C', 'D', 23]\n",
    "print(L1 + L2)"
   ]
  },
  {
   "cell_type": "code",
   "execution_count": 36,
   "metadata": {},
   "outputs": [
    {
     "name": "stdout",
     "output_type": "stream",
     "text": [
      "['A', 'B', 14, 'A', 'B', 14, 'A', 'B', 14]\n"
     ]
    }
   ],
   "source": [
    "print(L1 * 3)"
   ]
  },
  {
   "cell_type": "markdown",
   "metadata": {},
   "source": [
    "### Get Element Index"
   ]
  },
  {
   "cell_type": "code",
   "execution_count": 37,
   "metadata": {},
   "outputs": [
    {
     "name": "stdout",
     "output_type": "stream",
     "text": [
      "2\n"
     ]
    }
   ],
   "source": [
    "courses = ['CSE611', 'CSE541', 'EENG143']\n",
    "index = courses.index('EENG143')\n",
    "print(index)"
   ]
  },
  {
   "cell_type": "markdown",
   "metadata": {},
   "source": [
    "### The count of the given element"
   ]
  },
  {
   "cell_type": "code",
   "execution_count": 38,
   "metadata": {},
   "outputs": [
    {
     "name": "stdout",
     "output_type": "stream",
     "text": [
      "4\n"
     ]
    }
   ],
   "source": [
    "animals = ['Cat', 'Dog', 'Lion', 'Elephant', 'Cat', 'Dog', 'Rat', 'Dog','Dog']\n",
    "print(animals.count('Dog'))"
   ]
  },
  {
   "cell_type": "markdown",
   "metadata": {},
   "source": [
    "### Sort The Element of the List"
   ]
  },
  {
   "cell_type": "code",
   "execution_count": 42,
   "metadata": {},
   "outputs": [
    {
     "name": "stdout",
     "output_type": "stream",
     "text": [
      "[0, 1, 10, 45, 80]\n",
      "[0, 1, 10, 45, 80, 50]\n",
      "[0, 1, 10, 45, 50, 80]\n"
     ]
    }
   ],
   "source": [
    "C = [10,80,1,45,0]\n",
    "C.sort()\n",
    "print(C)\n",
    "C.append(50)\n",
    "print(C)\n",
    "C.sort()\n",
    "print(C)"
   ]
  },
  {
   "cell_type": "code",
   "execution_count": 44,
   "metadata": {},
   "outputs": [
    {
     "name": "stdout",
     "output_type": "stream",
     "text": [
      "[0, 1, 10, 45, 80]\n",
      "[10, 80, 1, 45, 0]\n"
     ]
    }
   ],
   "source": [
    "C = [10,80,1,45,0]\n",
    "print(sorted(C))\n",
    "print(C)"
   ]
  },
  {
   "cell_type": "markdown",
   "metadata": {},
   "source": [
    "### Reverse List"
   ]
  },
  {
   "cell_type": "code",
   "execution_count": 45,
   "metadata": {},
   "outputs": [
    {
     "name": "stdout",
     "output_type": "stream",
     "text": [
      "[0, 45, 1, 80, 10]\n"
     ]
    }
   ],
   "source": [
    "C.reverse() # reverses the list - it is an in-place function\n",
    "print(C)"
   ]
  },
  {
   "cell_type": "markdown",
   "metadata": {},
   "source": [
    "### Copy The Elements of The List"
   ]
  },
  {
   "cell_type": "code",
   "execution_count": 47,
   "metadata": {},
   "outputs": [
    {
     "name": "stdout",
     "output_type": "stream",
     "text": [
      "[50, 20, 40, 30, 20, 10]\n",
      "[50, 20, 40, 30, 20, 10]\n",
      "[50, 20, 40, 30, 20, 10, 30]\n"
     ]
    }
   ],
   "source": [
    "L1 = [50, 20, 40, 30, 20, 10]\n",
    "copyL1 = L1.copy() # a new list instance is returned\n",
    "print(copyL1)\n",
    "copycopyL1 = L1\n",
    "print(copycopyL1)\n",
    "copycopyL1.append(30)\n",
    "print(copycopyL1)"
   ]
  },
  {
   "cell_type": "markdown",
   "metadata": {},
   "source": [
    "### Removing Elements from a List"
   ]
  },
  {
   "cell_type": "code",
   "execution_count": 73,
   "metadata": {},
   "outputs": [
    {
     "name": "stdout",
     "output_type": "stream",
     "text": [
      "[]\n"
     ]
    }
   ],
   "source": [
    "mixedList = ['Istanbul', 34, 'Izmir', 35, 'Ankara', 6, 'Muğla', 48, 1, 2, 3, 'a', 'b', 'c']\n",
    "mixedList.clear() # is equal to mixedList[:] = []\n",
    "print(mixedList)"
   ]
  },
  {
   "cell_type": "code",
   "execution_count": 74,
   "metadata": {},
   "outputs": [
    {
     "name": "stdout",
     "output_type": "stream",
     "text": [
      "['Istanbul', 34, 'Izmir', 35, 'Ankara', 6, 48, 1, 2, 3, 'a', 'b', 'c']\n"
     ]
    }
   ],
   "source": [
    "mixedList = ['Istanbul', 34, 'Izmir', 35, 'Ankara', 6, 'Muğla', 48, 1, 2, 3, 'a', 'b', 'c']\n",
    "mixedList.remove('Muğla')\n",
    "print(mixedList)"
   ]
  },
  {
   "cell_type": "code",
   "execution_count": 77,
   "metadata": {},
   "outputs": [
    {
     "name": "stdout",
     "output_type": "stream",
     "text": [
      "['Istanbul', 34, 'Izmir', 35, 'Ankara', 6, 'Muğla', 48, 1, 2, 3, 'a', 'b']\n"
     ]
    }
   ],
   "source": [
    "mixedList = ['Istanbul', 34, 'Izmir', 35, 'Ankara', 6, 'Muğla', 48, 1, 2, 3, 'a', 'b', 'c']\n",
    "mixedList.pop() # remove Last Item\n",
    "print(mixedList)"
   ]
  },
  {
   "cell_type": "code",
   "execution_count": 78,
   "metadata": {},
   "outputs": [
    {
     "name": "stdout",
     "output_type": "stream",
     "text": [
      "['Istanbul', 'Izmir', 35, 'Ankara', 6, 'Muğla', 48, 1, 2, 3, 'a', 'b']\n"
     ]
    }
   ],
   "source": [
    "mixedList.pop(1) # remove i^th index Item\n",
    "print(mixedList)"
   ]
  },
  {
   "cell_type": "markdown",
   "metadata": {},
   "source": [
    "### Using List in Loops"
   ]
  },
  {
   "cell_type": "code",
   "execution_count": 48,
   "metadata": {},
   "outputs": [
    {
     "name": "stdout",
     "output_type": "stream",
     "text": [
      "Istanbul\n",
      "34\n",
      "Izmir\n",
      "35\n",
      "Ankara\n",
      "6\n",
      "Muğla\n",
      "48\n",
      "1\n",
      "2\n",
      "3\n",
      "a\n",
      "b\n",
      "c\n"
     ]
    }
   ],
   "source": [
    "mixedList = ['Istanbul', 34, 'Izmir', 35, 'Ankara', 6, 'Muğla', 48, 1, 2, 3, 'a', 'b', 'c']\n",
    "for item in mixedList: # Iterate each item in the mixedList\n",
    "    print(item)"
   ]
  },
  {
   "cell_type": "code",
   "execution_count": 50,
   "metadata": {},
   "outputs": [
    {
     "name": "stdout",
     "output_type": "stream",
     "text": [
      "Istanbul\n",
      "34\n",
      "Izmir\n",
      "35\n",
      "Ankara\n",
      "6\n",
      "Muğla\n",
      "48\n",
      "1\n",
      "2\n",
      "3\n",
      "a\n",
      "b\n",
      "c\n"
     ]
    }
   ],
   "source": [
    "for idx in range(len(mixedList)): # Return list of index between 0 and length of the list\n",
    "    print(mixedList[idx]) # Get idx'th item in the mixedList"
   ]
  },
  {
   "cell_type": "code",
   "execution_count": 51,
   "metadata": {},
   "outputs": [
    {
     "name": "stdout",
     "output_type": "stream",
     "text": [
      "0 Istanbul\n",
      "1 34\n",
      "2 Izmir\n",
      "3 35\n",
      "4 Ankara\n",
      "5 6\n",
      "6 Muğla\n",
      "7 48\n",
      "8 1\n",
      "9 2\n",
      "10 3\n",
      "11 a\n",
      "12 b\n",
      "13 c\n"
     ]
    }
   ],
   "source": [
    "for idx, item in enumerate(mixedList): # Return index of item and item pairs\n",
    "    print(f\"{idx} {item}\") #print(idx,item)"
   ]
  },
  {
   "cell_type": "markdown",
   "metadata": {},
   "source": [
    "### List Compherensions"
   ]
  },
  {
   "cell_type": "code",
   "execution_count": 4,
   "metadata": {},
   "outputs": [
    {
     "name": "stdout",
     "output_type": "stream",
     "text": [
      "[0, 1, 4, 9, 16, 25, 36, 49, 64, 81]\n"
     ]
    }
   ],
   "source": [
    "L = [i**2 for i in range(10)]\n",
    "print(L)"
   ]
  },
  {
   "cell_type": "code",
   "execution_count": 7,
   "metadata": {},
   "outputs": [
    {
     "data": {
      "text/plain": "False"
     },
     "execution_count": 7,
     "metadata": {},
     "output_type": "execute_result"
    }
   ],
   "source": [
    "9 in L is False"
   ]
  },
  {
   "cell_type": "code",
   "execution_count": 9,
   "metadata": {},
   "outputs": [
    {
     "name": "stdout",
     "output_type": "stream",
     "text": [
      "[3, 7, 11]\n"
     ]
    }
   ],
   "source": [
    "# Nested List\n",
    "matris = [[1, 2],\n",
    "          [3, 4],\n",
    "          [5, 6]]\n",
    "\n",
    "sumofRow= [sum(row) for row in matris]\n",
    "print(sumofRow)"
   ]
  },
  {
   "cell_type": "code",
   "execution_count": 10,
   "metadata": {},
   "outputs": [],
   "source": [
    "squareMatrix = [[x ** 2 for x in y] for y in matris]"
   ]
  },
  {
   "cell_type": "code",
   "execution_count": 11,
   "metadata": {},
   "outputs": [
    {
     "name": "stdout",
     "output_type": "stream",
     "text": [
      "[[1, 4], [9, 16], [25, 36]]\n"
     ]
    }
   ],
   "source": [
    "print(squareMatrix)"
   ]
  },
  {
   "cell_type": "code",
   "execution_count": 61,
   "metadata": {},
   "outputs": [
    {
     "data": {
      "text/plain": "3"
     },
     "execution_count": 61,
     "metadata": {},
     "output_type": "execute_result"
    }
   ],
   "source": [
    "len(squareMatrix)"
   ]
  },
  {
   "cell_type": "code",
   "execution_count": null,
   "outputs": [],
   "source": [],
   "metadata": {
    "collapsed": false,
    "pycharm": {
     "name": "#%%\n"
    }
   }
  }
 ],
 "metadata": {
  "kernelspec": {
   "display_name": "Python 3 (ipykernel)",
   "language": "python",
   "name": "python3"
  },
  "language_info": {
   "codemirror_mode": {
    "name": "ipython",
    "version": 3
   },
   "file_extension": ".py",
   "mimetype": "text/x-python",
   "name": "python",
   "nbconvert_exporter": "python",
   "pygments_lexer": "ipython3",
   "version": "3.9.7"
  }
 },
 "nbformat": 4,
 "nbformat_minor": 1
}