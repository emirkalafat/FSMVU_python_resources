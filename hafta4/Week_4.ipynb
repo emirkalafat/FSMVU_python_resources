{
 "cells": [
  {
   "cell_type": "markdown",
   "id": "5639c07b",
   "metadata": {},
   "source": [
    "### Dictionary Compherension, List in Dictionary, Dictionary in Dictionary"
   ]
  },
  {
   "cell_type": "markdown",
   "id": "16a7258b",
   "metadata": {},
   "source": [
    "### **Q1:** \n",
    "Create a dictionary from the items list where each key is the name of item and \n",
    "value is the count of item in the list.\n",
    "\n",
    "**Expected Output:**<br>\n",
    "{'computer': 3, 'phone': 1, 'tv': 4, 'game console': 1}"
   ]
  },
  {
   "cell_type": "code",
   "execution_count": 1,
   "id": "27746e42",
   "metadata": {},
   "outputs": [],
   "source": [
    "items = ['computer', 'phone', 'tv', 'tv', 'computer', 'tv', 'game console', 'tv', 'computer']"
   ]
  },
  {
   "cell_type": "code",
   "execution_count": 2,
   "id": "67a19729",
   "metadata": {},
   "outputs": [
    {
     "name": "stdout",
     "output_type": "stream",
     "text": [
      "{'tv': 4, 'computer': 3, 'phone': 1, 'game console': 1}\n"
     ]
    }
   ],
   "source": [
    "# Loop Version\n",
    "result = {}\n",
    "for item in set(items): # Iterate each item in the items list\n",
    "    result[item] = items.count(item) # Append the number of occurrences of item in the items list\n",
    "print(result)"
   ]
  },
  {
   "cell_type": "code",
   "execution_count": null,
   "id": "c5257f44",
   "metadata": {},
   "outputs": [],
   "source": [
    "# Dictionary Compherension\n",
    "{item: items.count(item) for item in set(items)}"
   ]
  },
  {
   "cell_type": "markdown",
   "id": "7afbecf7",
   "metadata": {},
   "source": [
    "### **Q2:** \n",
    "The given list contains the midterm and final grades taken in the mathematics course by different users. Using this list, calculate the average of the grades taken in mathematic course. <br>\n",
    "\n",
    "**Expected Output:** <br>\n",
    "76.66666666666667\n"
   ]
  },
  {
   "cell_type": "code",
   "execution_count": null,
   "id": "3251552a",
   "metadata": {},
   "outputs": [],
   "source": [
    "student_details= [\n",
    "  {'id' : 1, 'courses' : 'math', 'Midterm' : 70, 'Final' : 82},\n",
    "  {'id' : 2, 'courses' : 'math', 'Midterm' : 73, 'Final' : 74},\n",
    "  {'id' : 3, 'courses' : 'math', 'Midterm' : 75, 'Final' : 86}\n",
    "]"
   ]
  },
  {
   "cell_type": "code",
   "execution_count": null,
   "id": "884bd5ed",
   "metadata": {},
   "outputs": [],
   "source": [
    "# Loop Version\n",
    "result = []\n",
    "for record in student_details: # Iterate each item in the student_details list\n",
    "    avg = (record['Midterm'] + record['Final']) / 2 # Calculate average of the Midterm and Final grades\n",
    "    result.append(avg) # Append this value into the result list\n",
    "\n",
    "avg_of_all_students = sum(result) / len(result) # Calculate the mean of average grades\n",
    "print(avg_of_all_students)"
   ]
  },
  {
   "cell_type": "code",
   "execution_count": null,
   "id": "8d1586e0",
   "metadata": {},
   "outputs": [],
   "source": [
    "# Dictionary Compherension\n",
    "sum([(record['Midterm'] + record['Final']) / 2 for record in student_details]) / len(student_details)"
   ]
  },
  {
   "cell_type": "markdown",
   "id": "31d71ff4",
   "metadata": {},
   "source": [
    "### **Q3:**\n",
    "Find the average of the grades of each student for each course. <br>\n",
    "\n",
    "**Expected Output:** <br>\n",
    "{1: {'math': 76.0, 'cs': 81.0}, <br>\n",
    " 2: {'math': 73.5, 'cs': 78.5}, <br>\n",
    " 3: {'math': 80.5, 'cs': 85.5}}"
   ]
  },
  {
   "cell_type": "code",
   "execution_count": 3,
   "id": "3f8bf784",
   "metadata": {},
   "outputs": [],
   "source": [
    "student_details= [\n",
    "  {'id' : 1, 'courses' : {'math': [70, 82], 'cs': [75, 87]}},\n",
    "  {'id' : 2, 'courses' : {'math': [73, 74], 'cs': [78, 79]}},\n",
    "  {'id' : 3, 'courses' : {'math': [75, 86], 'cs': [80, 91]}}\n",
    "]"
   ]
  },
  {
   "cell_type": "code",
   "execution_count": 4,
   "id": "8137827d",
   "metadata": {},
   "outputs": [
    {
     "data": {
      "text/plain": "{1: {'math': 76.0, 'cs': 81.0},\n 2: {'math': 73.5, 'cs': 78.5},\n 3: {'math': 80.5, 'cs': 85.5}}"
     },
     "execution_count": 4,
     "metadata": {},
     "output_type": "execute_result"
    }
   ],
   "source": [
    "## Loop Version\n",
    "result = dict() # Store the average values for each course of each student.\n",
    "for student in student_details: # Iterate each dictionary record\n",
    "    result[student['id']] = dict() # Create new dictionary for each student\n",
    "    for course, grades in student['courses'].items():\n",
    "        result[student['id']][course] = sum(grades) / len(grades)\n",
    "\n",
    "result"
   ]
  },
  {
   "cell_type": "code",
   "execution_count": null,
   "id": "33120dde",
   "metadata": {},
   "outputs": [],
   "source": [
    "## Dictionary Compherension\n",
    "{student['id']: {course: sum(grades) / len(grades) for course, grades in student['courses'].items()} for student in student_details}"
   ]
  },
  {
   "cell_type": "markdown",
   "id": "09e77a14",
   "metadata": {},
   "source": [
    "### **Q4:**\n",
    "Create a dictionary that contains the total shopping price of each customer in the given list.\n",
    "\n",
    "**Excepted Output:** <br>\n",
    "{123: 12023, 124: 6500, 125: 17523, 126: 24023}"
   ]
  },
  {
   "cell_type": "code",
   "execution_count": 5,
   "id": "3bfdf0dc",
   "metadata": {},
   "outputs": [],
   "source": [
    "customers = [123, 124, 125, 126]\n",
    "prices = {\"computer\": 7500, \"phone\": 4523, \"graphic card\": 6500, \"scooter\": 5500}\n",
    "orders = [\n",
    "            {\"customer_id\" : 123, \"basket\": ['computer', 'phone']},\n",
    "            {\"customer_id\" : 124, \"basket\": ['graphic card']},\n",
    "            {\"customer_id\" : 125, \"basket\": ['phone', 'computer', 'scooter']},\n",
    "            {\"customer_id\" : 126, \"basket\": ['computer', 'phone', 'graphic card', 'scooter']}\n",
    "         ]"
   ]
  },
  {
   "cell_type": "code",
   "execution_count": 6,
   "id": "f941df97",
   "metadata": {},
   "outputs": [
    {
     "name": "stdout",
     "output_type": "stream",
     "text": [
      "{123: 12023, 124: 6500, 125: 17523, 126: 24023}\n"
     ]
    }
   ],
   "source": [
    "## Loop Version\n",
    "result = dict()\n",
    "for order in orders: # Iterate each order in orders list\n",
    "    customer_list = [] # Store price of each item in the customer's basket\n",
    "    customer_id = order['customer_id']\n",
    "    for item in order['basket']: # Iterate each item in the basket\n",
    "        customer_list.append(prices[item])\n",
    "    result[customer_id] = sum(customer_list)\n",
    "\n",
    "print(result)"
   ]
  },
  {
   "cell_type": "code",
   "execution_count": null,
   "id": "a5dea3a3",
   "metadata": {},
   "outputs": [],
   "source": [
    "## Dictionary Compherension\n",
    "{order['customer_id']: sum([prices[item] for item in order['basket']]) for order in orders}"
   ]
  },
  {
   "cell_type": "markdown",
   "id": "0146308c",
   "metadata": {},
   "source": [
    "## Q5\n",
    "\n",
    "Create a dictionary that contains the count of each item in the orders list\n",
    "\n",
    "**Expected Output**\n",
    "\n",
    "{'computer': 3, 'phone': 3, 'graphic card': 2, 'scooter': 2}"
   ]
  },
  {
   "cell_type": "code",
   "execution_count": null,
   "id": "f2a741c5",
   "metadata": {},
   "outputs": [],
   "source": [
    "## Loop Version\n",
    "result = {}\n",
    "for item in prices.keys(): # Get each item in prices dictionary (key values of prices dictionary is equal to item name)\n",
    "    count = []\n",
    "    for order in orders: # Iterate each order in orders list\n",
    "        for product in order['basket']:  # Iterate each item in the basket\n",
    "            if product == item: # Is product and item equal?\n",
    "                count.append(1) # Yes, add 1 into the count list\n",
    "    result[item] = sum(count) # Summation of the count list equal to count of item (or frequency value of this item)\n",
    "print(result)"
   ]
  },
  {
   "cell_type": "code",
   "execution_count": null,
   "id": "ae57a64c",
   "metadata": {},
   "outputs": [],
   "source": [
    "# Dictionary Compherension\n",
    "{item: sum([1 for order in orders for product in order['basket'] if product == item]) for item in prices.keys()}"
   ]
  },
  {
   "cell_type": "markdown",
   "id": "dcd8ae52",
   "metadata": {},
   "source": [
    "## Q6\n",
    "\n",
    "Create a dictionary that contains manhattan distance between each city in the cities dictionary"
   ]
  },
  {
   "cell_type": "code",
   "execution_count": 5,
   "id": "00e3b80c",
   "metadata": {},
   "outputs": [
    {
     "data": {
      "text/plain": [
       "{'distance_0_1': 1.3, 'distance_0_2': 4.1, 'distance_1_2': 2.8}"
      ]
     },
     "execution_count": 5,
     "metadata": {},
     "output_type": "execute_result"
    }
   ],
   "source": [
    "# Dictionary Compherension\n",
    "cities = {\n",
    "    0 : {\"x\": 1.2, \"y\": 1.4}, # City 1\n",
    "    1 : {\"x\": 2.5, \"y\": 4.2}, # City 2\n",
    "    2 : {\"x\": 5.3, \"y\": 6.4}  # City 3\n",
    "}\n",
    "\n",
    "{f\"distance_{first_city}_{second_city}\" : abs(cities[first_city][\"x\"] - cities[second_city][\"x\"]) \n",
    "     for first_city in cities \n",
    "         for second_city in range(first_city + 1, len(cities))\n",
    "}"
   ]
  },
  {
   "cell_type": "code",
   "execution_count": 6,
   "id": "6046f235",
   "metadata": {},
   "outputs": [
    {
     "data": {
      "text/plain": [
       "{'distance_0_1': 1.3, 'distance_0_2': 4.1, 'distance_1_2': 2.8}"
      ]
     },
     "execution_count": 6,
     "metadata": {},
     "output_type": "execute_result"
    }
   ],
   "source": [
    "# Loop Version\n",
    "result = {}\n",
    "for first_city in cities: # Iterate each city in cities dictionary\n",
    "    for second_city in range(first_city + 1, len(cities)): # Iterate cities between the 1 and 2\n",
    "        distance_x = abs(cities[first_city][\"x\"] - cities[second_city][\"x\"]) # Calculate Manhattan X distance between first_city and second city\n",
    "        result[f\"distance_{first_city}_{second_city}\"] = distance_x\n",
    "\n",
    "result"
   ]
  },
  {
   "cell_type": "code",
   "execution_count": null,
   "id": "47114aa8",
   "metadata": {},
   "outputs": [],
   "source": []
  }
 ],
 "metadata": {
  "kernelspec": {
   "display_name": "Python 3 (ipykernel)",
   "language": "python",
   "name": "python3"
  },
  "language_info": {
   "codemirror_mode": {
    "name": "ipython",
    "version": 3
   },
   "file_extension": ".py",
   "mimetype": "text/x-python",
   "name": "python",
   "nbconvert_exporter": "python",
   "pygments_lexer": "ipython3",
   "version": "3.9.7"
  }
 },
 "nbformat": 4,
 "nbformat_minor": 5
}