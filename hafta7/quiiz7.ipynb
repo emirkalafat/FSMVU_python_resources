{
 "cells": [
  {
   "cell_type": "code",
   "execution_count": 10,
   "metadata": {
    "collapsed": true
   },
   "outputs": [
    {
     "name": "stdout",
     "output_type": "stream",
     "text": [
      "Called raiseSalary Method... Given Parameter: 0.1\n",
      "Called printInfo Method...Name:Ali, Surname: Yılmaz, Year: 5, Salary: 3850.0\n",
      "-----\n",
      "Called raiseSalary Method... Given Parameter: 0.25\n",
      "Called printInfo Method...Name:Ayşe, Surname: Yılmaz, Year: 6, Salary: 5337.5\n"
     ]
    }
   ],
   "source": [
    "class Person():\n",
    "    # YOUR CODE HERE\n",
    "    def __init__(self, name, surname, year,salary):\n",
    "        self.name = name\n",
    "        self.surname = surname\n",
    "        self.year = year\n",
    "        self.salary = salary\n",
    "\n",
    "    def printInfo(self):\n",
    "        return f\"Called printInfo Method...\\n\" \\\n",
    "               f\"Name: {self.name}, Surname: {self.surname}, Year of Work: {self.year}, Salary: {self.salary}\"\n",
    "\n",
    "    def raiseSalary(self,raiseAmount):\n",
    "        self.raiseAmount = raiseAmount\n",
    "        self.salary = (raiseAmount*self.salary) + self.salary\n",
    "        print(f\"Called raiseSalary Method... Given Parameter: {self.raiseAmount}\")\n",
    "        return self.salary\n",
    "\n",
    "# Don't change this fields!!! - Sample instances\n",
    "person_1 = Person(\"Ali\", \"Yılmaz\", 5, 3500)\n",
    "person_2 = Person(\"Ayşe\", \"Yılmaz\", 6, 4270)\n",
    "\n",
    "person_1.raiseSalary(0.10)\n",
    "print(person_1.printInfo())\n",
    "print(\"-----\")\n",
    "person_2.raiseSalary(0.25)\n",
    "print(person_2.printInfo())"
   ]
  },
  {
   "cell_type": "code",
   "execution_count": 15,
   "outputs": [
    {
     "name": "stdout",
     "output_type": "stream",
     "text": [
      "There is not enough Hammer.\n",
      "Brush sold. Total Price: 3\n",
      "Applied %10 discount\n",
      "Zip sold. Total Price: 63.0\n",
      "Title: Hammer, Price: 25, Stock: 5\n",
      "Title: Brush, Price: 3, Stock: 1\n",
      "Title: Zip, Price: 10, Stock: 13\n"
     ]
    }
   ],
   "source": [
    "class Material:\n",
    "\n",
    "    # YOUR CODE HERE\n",
    "    def __init__(self,name,price,stock):\n",
    "        self.name=name\n",
    "        self.price=price\n",
    "        self.stock=stock\n",
    "\n",
    "    def decreaseStock(self,amount):\n",
    "        if amount > self.stock:\n",
    "            print(f\"There is not enough {self.name}.\")\n",
    "        else:\n",
    "            self.stock -= amount\n",
    "            if amount > 3:\n",
    "                print(\"Applied %10 discount\")\n",
    "                print(f\"{self.name} sold. Total Price: {amount*self.price * 90 / 100}\")\n",
    "            else:\n",
    "                print(f\"{self.name} sold. Total Price: {amount*self.price}\")\n",
    "\n",
    "class Factory:\n",
    "\n",
    "    # YOUR CODE HERE\n",
    "    def __init__(self,name):\n",
    "        self.name = name\n",
    "        self.materialList = []\n",
    "\n",
    "    def addMaterial(self,Material):\n",
    "        self.materialList.append(Material)\n",
    "\n",
    "    def removeMaterial(self,Material):\n",
    "        self.materialList.remove(Material)\n",
    "\n",
    "    def sellMaterial(self,material,amount):\n",
    "        if material.stock < amount:\n",
    "            print(f\"There is not enough {material.name}.\")\n",
    "        else:\n",
    "            material.decreaseStock(amount)\n",
    "\n",
    "    def printMaterialList(self):\n",
    "        for material in self.materialList:\n",
    "            print(f\"Title: {material.name}, Price: {material.price}, Stock: {material.stock}\")\n",
    "\n",
    "\n",
    "\n",
    "# Don't change this fields - Sample instances\n",
    "material_1 = Material(\"Hammer\", 25, 5)\n",
    "material_2 = Material(\"Brush\", 3, 2)\n",
    "material_3 = Material(\"Nothing\", 100, 5)\n",
    "material_4 = Material(\"Zip\", 10, 20)\n",
    "\n",
    "factory = Factory(\"Factory\")\n",
    "\n",
    "factory.addMaterial(material_1)\n",
    "factory.addMaterial(material_2)\n",
    "factory.addMaterial(material_3)\n",
    "factory.addMaterial(material_4)\n",
    "\n",
    "factory.removeMaterial(material_3)\n",
    "\n",
    "factory.sellMaterial(material_1, 6)\n",
    "factory.sellMaterial(material_2, 1)\n",
    "factory.sellMaterial(material_4, 7)\n",
    "\n",
    "factory.printMaterialList()"
   ],
   "metadata": {
    "collapsed": false,
    "pycharm": {
     "name": "#%%\n"
    }
   }
  },
  {
   "cell_type": "code",
   "execution_count": null,
   "outputs": [],
   "source": [],
   "metadata": {
    "collapsed": false,
    "pycharm": {
     "name": "#%%\n"
    }
   }
  },
  {
   "cell_type": "code",
   "execution_count": null,
   "outputs": [],
   "source": [],
   "metadata": {
    "collapsed": false,
    "pycharm": {
     "name": "#%%\n"
    }
   }
  }
 ],
 "metadata": {
  "kernelspec": {
   "display_name": "Python 3",
   "language": "python",
   "name": "python3"
  },
  "language_info": {
   "codemirror_mode": {
    "name": "ipython",
    "version": 2
   },
   "file_extension": ".py",
   "mimetype": "text/x-python",
   "name": "python",
   "nbconvert_exporter": "python",
   "pygments_lexer": "ipython2",
   "version": "2.7.6"
  }
 },
 "nbformat": 4,
 "nbformat_minor": 0
}