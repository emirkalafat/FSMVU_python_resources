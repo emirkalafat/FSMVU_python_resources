{
 "cells": [
  {
   "cell_type": "code",
   "execution_count": 1,
   "id": "d7977ea9",
   "metadata": {},
   "outputs": [
    {
     "name": "stdout",
     "output_type": "stream",
     "text": [
      "{'computer': 3, 'phone': 1, 'tv': 4, 'game console': 1}\n"
     ]
    }
   ],
   "source": [
    "# Q1\n",
    "items = ['computer', 'phone', 'tv', 'tv', 'computer', 'tv', 'game console', 'tv', 'computer']\n",
    "print({item: items.count(item) for item in items})"
   ]
  },
  {
   "cell_type": "code",
   "execution_count": 2,
   "id": "8f125c54",
   "metadata": {},
   "outputs": [
    {
     "data": {
      "text/plain": "76.66666666666667"
     },
     "execution_count": 2,
     "metadata": {},
     "output_type": "execute_result"
    }
   ],
   "source": [
    "# Q2\n",
    "student_details= [\n",
    "  {'id' : 1, 'subject' : 'math', 'Midterm' : 70, 'Final' : 82},\n",
    "  {'id' : 2, 'subject' : 'math', 'Midterm' : 73, 'Final' : 74},\n",
    "  {'id' : 3, 'subject' : 'math', 'Midterm' : 75, 'Final' : 86}\n",
    "]\n",
    "sum([(record['Midterm'] + record['Final']) / 2 for record in student_details]) / len(student_details)\n",
    "\n",
    "###loop version\n",
    "###result = []\n",
    "###for kayıt in student_details:\n",
    "###  ort = (kayıt['Midterm'] + kayıt['Final']) / 2\n",
    "###  result.append(ort)\n",
    "###ort_of_all = sum(result) / len(result)\n",
    "###print(f'aha {ort_of_all}')"
   ]
  },
  {
   "cell_type": "code",
   "execution_count": 3,
   "id": "53de9f78",
   "metadata": {},
   "outputs": [
    {
     "name": "stdout",
     "output_type": "stream",
     "text": [
      "{1: {'math': 76.0, 'cs': 81.0}, 2: {'math': 73.5, 'cs': 78.5}, 3: {'math': 80.5, 'cs': 85.5}}\n"
     ]
    }
   ],
   "source": [
    "# Q3\n",
    "student_details= [\n",
    "  {'id' : 1, 'subject' : {'math': [70, 82], 'cs': [75, 87]}},\n",
    "  {'id' : 2, 'subject' : {'math': [73, 74], 'cs': [78, 79]}},\n",
    "  {'id' : 3, 'subject' : {'math': [75, 86], 'cs': [80, 91]}}\n",
    "]\n",
    "\n",
    "print({student['id']: {\"math\": sum(student['subject']['math']) / len(student['subject']['math']), \n",
    "                  \"cs\": sum(student['subject']['cs']) / len(student['subject']['cs'])} for student in student_details})"
   ]
  },
  {
   "cell_type": "code",
   "execution_count": null,
   "id": "0353a332",
   "metadata": {},
   "outputs": [],
   "source": []
  }
 ],
 "metadata": {
  "kernelspec": {
   "display_name": "Python 3 (ipykernel)",
   "language": "python",
   "name": "python3"
  },
  "language_info": {
   "codemirror_mode": {
    "name": "ipython",
    "version": 3
   },
   "file_extension": ".py",
   "mimetype": "text/x-python",
   "name": "python",
   "nbconvert_exporter": "python",
   "pygments_lexer": "ipython3",
   "version": "3.9.7"
  }
 },
 "nbformat": 4,
 "nbformat_minor": 5
}