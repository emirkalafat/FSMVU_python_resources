{
 "cells": [
  {
   "cell_type": "code",
   "execution_count": 73,
   "metadata": {
    "collapsed": true
   },
   "outputs": [
    {
     "name": "stdout",
     "output_type": "stream",
     "text": [
      "Carl Elias : ['Knife', 'Tomato', 'Chess']\n",
      "Harold Finch : ['Mobile Phone', 'Phone Case', 'Router']\n",
      "John Reese : ['Computer', 'Mouse', 'Keyboard']\n"
     ]
    }
   ],
   "source": [
    "database = [('John Reese', 'Computer'), ('Harold Finch', 'Mobile Phone'), ('Carl Elias', 'Knife'), ('John Reese', 'Mouse'), ('Harold Finch', 'Phone Case'), ('Carl Elias', 'Tomato'), ('John Reese', 'Keyboard'), ('Harold Finch', 'Router'), ('Carl Elias', 'Chess')]\n",
    "\n",
    "result = {}\n",
    "for i in database:\n",
    "    if i[0] not in result:\n",
    "        result[i[0]] = list()\n",
    "    result[i[0]].append(i[1])\n",
    "\n",
    "for isim,sepet in sorted(result.items()):\n",
    "    print(f\"{isim} : {sepet}\")"
   ]
  },
  {
   "cell_type": "code",
   "execution_count": 70,
   "outputs": [
    {
     "name": "stdout",
     "output_type": "stream",
     "text": [
      " : \n"
     ]
    }
   ],
   "source": [
    "favorite = {}\n",
    "sayac = 0\n",
    "while sayac != 5:\n",
    "    ad = input(\"What is your name?:\")\n",
    "    dil = input(\"What is your favorite programming language?:\")\n",
    "    sayac += 1\n",
    "    favorite[ad] = dil\n",
    "print(\"\\n--- Results ---\")\n",
    "for isim,program in favorite.items():\n",
    "    print(f\"{isim}'s favourite programming language is {program}.\")"
   ],
   "metadata": {
    "collapsed": false,
    "pycharm": {
     "name": "#%%\n"
    }
   }
  },
  {
   "cell_type": "code",
   "execution_count": 75,
   "outputs": [
    {
     "name": "stdout",
     "output_type": "stream",
     "text": [
      "--Your ticket is £15.\n",
      "--Your ticket is £10.\n",
      "--Your ticket is £15.\n",
      "Sum of All Tickets: 40\n"
     ]
    }
   ],
   "source": [
    "age = ''\n",
    "total = 0\n",
    "#def prize(age,total=0):\n",
    "while(age!='quit'):\n",
    "    age = input('How old are you?:')\n",
    "    if(str(age) == 'quit'):\n",
    "        print(f\"Sum of All Tickets: {total}\")\n",
    "    elif(int(age) < 3):\n",
    "        print(\"--You get in free!\")\n",
    "    elif(int(age) > 3 and int(age) <= 12):\n",
    "        print('--Your ticket is £10.')\n",
    "        total += 10\n",
    "    else:\n",
    "        print(\"--Your ticket is £15.\")\n",
    "        total += 15"
   ],
   "metadata": {
    "collapsed": false,
    "pycharm": {
     "name": "#%%\n"
    }
   }
  }
 ],
 "metadata": {
  "kernelspec": {
   "display_name": "Python 3",
   "language": "python",
   "name": "python3"
  },
  "language_info": {
   "codemirror_mode": {
    "name": "ipython",
    "version": 2
   },
   "file_extension": ".py",
   "mimetype": "text/x-python",
   "name": "python",
   "nbconvert_exporter": "python",
   "pygments_lexer": "ipython2",
   "version": "2.7.6"
  }
 },
 "nbformat": 4,
 "nbformat_minor": 0
}