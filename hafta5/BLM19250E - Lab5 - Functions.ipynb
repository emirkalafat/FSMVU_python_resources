{
 "cells": [
  {
   "cell_type": "markdown",
   "metadata": {},
   "source": [
    "## Functions"
   ]
  },
  {
   "cell_type": "code",
   "execution_count": 1,
   "metadata": {},
   "outputs": [
    {
     "name": "stdout",
     "output_type": "stream",
     "text": [
      "8\n",
      "81\n"
     ]
    }
   ],
   "source": [
    "def powFunction(x, y):\n",
    "    return x ** y\n",
    "\n",
    "print(powFunction(2, 3))\n",
    "print(powFunction(3, 4))"
   ]
  },
  {
   "cell_type": "code",
   "execution_count": 2,
   "outputs": [
    {
     "name": "stdout",
     "output_type": "stream",
     "text": [
      "falan hey\n"
     ]
    }
   ],
   "source": [
    "def falan(pet_name,animal_ytpe):\n",
    "    print(f\"{pet_name} {animal_ytpe}\")\n",
    "###böyle de kullanılabilir.\n",
    "falan(animal_ytpe='hey',pet_name='falan')"
   ],
   "metadata": {
    "collapsed": false,
    "pycharm": {
     "name": "#%%\n"
    }
   }
  },
  {
   "cell_type": "code",
   "execution_count": 6,
   "outputs": [
    {
     "name": "stdout",
     "output_type": "stream",
     "text": [
      "ayşe hüseyin\n",
      "zeynep hüseyin\n",
      "zeynep ahmet\n"
     ]
    }
   ],
   "source": [
    "def filan(anan_name='zeynep',banan_name='hüseyin'):\n",
    "    print(f\"{anan_name} {banan_name}\")\n",
    "###DEAFULT VALUE\n",
    "filan('ayşe')\n",
    "filan()\n",
    "filan(banan_name='ahmet')"
   ],
   "metadata": {
    "collapsed": false,
    "pycharm": {
     "name": "#%%\n"
    }
   }
  },
  {
   "cell_type": "code",
   "execution_count": 14,
   "outputs": [
    {
     "name": "stdout",
     "output_type": "stream",
     "text": [
      "ahmet kalafat\n"
     ]
    }
   ],
   "source": [
    "def get_formatted_name(first_name,last_name,middle_name=''):\n",
    "    if middle_name:\n",
    "        full_name=first_name + ' ' + middle_name + ' ' + last_name\n",
    "    else:\n",
    "        full_name=first_name + ' ' + last_name\n",
    "    return full_name\n",
    "\n",
    "print(get_formatted_name('ahmet','kalafat'))\n"
   ],
   "metadata": {
    "collapsed": false,
    "pycharm": {
     "name": "#%%\n"
    }
   }
  },
  {
   "cell_type": "markdown",
   "source": [
    "* default tanımlamaları hep fonrkisyonun sonuna koy!!!"
   ],
   "metadata": {
    "collapsed": false
   }
  },
  {
   "cell_type": "code",
   "execution_count": 19,
   "outputs": [
    {
     "name": "stdout",
     "output_type": "stream",
     "text": [
      "3 2 -1\n",
      "büyüktür\n"
     ]
    }
   ],
   "source": [
    "def excersize(int1,int2=0):\n",
    "    if int2 == 0:\n",
    "        if int1 < 0:\n",
    "            return 'küçüktür'\n",
    "        else:\n",
    "            return 'büyüktür'\n",
    "    else:\n",
    "        return f\"{int1+int2} {int1*int2} {int1-int2}\"\n",
    "\n",
    "print(excersize(1,2))\n",
    "print(excersize(1))"
   ],
   "metadata": {
    "collapsed": false,
    "pycharm": {
     "name": "#%%\n"
    }
   }
  },
  {
   "cell_type": "code",
   "execution_count": 20,
   "outputs": [
    {
     "name": "stdout",
     "output_type": "stream",
     "text": [
      "ahmet\n",
      "mikail\n",
      "ebrar\n",
      "emir\n"
     ]
    }
   ],
   "source": [
    "def listFunc(names):\n",
    "    for name in names:\n",
    "        print(name)\n",
    "\n",
    "usernames= ['ahmet', 'mikail', 'ebrar', 'emir']\n",
    "listFunc(usernames)"
   ],
   "metadata": {
    "collapsed": false,
    "pycharm": {
     "name": "#%%\n"
    }
   }
  },
  {
   "cell_type": "code",
   "execution_count": 22,
   "outputs": [
    {
     "name": "stdout",
     "output_type": "stream",
     "text": [
      "('mushroom', 'olive', 'tomato', 'cheese')\n"
     ]
    }
   ],
   "source": [
    "def make_pizza(*toppings):\n",
    "    print(toppings)\n",
    "### * sayesinde kaç tane paremetre girileceği belirsiz oluyor\n",
    "make_pizza('mushroom','olive','tomato','cheese')"
   ],
   "metadata": {
    "collapsed": false,
    "pycharm": {
     "name": "#%%\n"
    }
   }
  },
  {
   "cell_type": "code",
   "execution_count": null,
   "outputs": [],
   "source": [
    "def make_soup(*toppings,*falan) ###izin vermiyor"
   ],
   "metadata": {
    "collapsed": false,
    "pycharm": {
     "name": "#%%\n"
    }
   }
  },
  {
   "cell_type": "markdown",
   "source": [],
   "metadata": {
    "collapsed": false
   }
  },
  {
   "cell_type": "code",
   "execution_count": 23,
   "metadata": {},
   "outputs": [
    {
     "name": "stdout",
     "output_type": "stream",
     "text": [
      "[3, 5]\n"
     ]
    }
   ],
   "source": [
    "# define an \"intersect\" function that returns the intersection list of two sequences:\n",
    "def intersect(seq1, seq2):\n",
    "    return [item for item in seq1 if item in seq2]\n",
    "\n",
    "print(intersect([1, 3, 5], (4, 6, 5, 3)))"
   ]
  },
  {
   "cell_type": "code",
   "execution_count": 25,
   "outputs": [
    {
     "name": "stdout",
     "output_type": "stream",
     "text": [
      "diger\n",
      "[2, 3, 4, 5, 5, 6, 6, 3, 2, 1, 2, 45, 5, 6]\n"
     ]
    }
   ],
   "source": [
    "def ananFonksiyonu(bisi,*diger):\n",
    "    print(bisi)\n",
    "    listee=[di for di in diger]\n",
    "    print(listee)\n",
    "\n",
    "ananFonksiyonu('diger',2,3,4,5,5,6,6,3,2,1,2,45,5,6)"
   ],
   "metadata": {
    "collapsed": false,
    "pycharm": {
     "name": "#%%\n"
    }
   }
  },
  {
   "cell_type": "markdown",
   "metadata": {},
   "source": [
    "### Global vs Local Scope"
   ]
  },
  {
   "cell_type": "code",
   "execution_count": 26,
   "metadata": {},
   "outputs": [
    {
     "data": {
      "text/plain": "104"
     },
     "execution_count": 26,
     "metadata": {},
     "output_type": "execute_result"
    }
   ],
   "source": [
    "# Global scope\n",
    "X = 99 # X and func assigned in module: global\n",
    "def func(Y): # Y and Z assigned in function: locals\n",
    "    Z = X + Y # X is a global\n",
    "    return Z\n",
    "\n",
    "# Global Scope Example\n",
    "func(5)\n"
   ]
  },
  {
   "cell_type": "code",
   "execution_count": 59,
   "metadata": {},
   "outputs": [
    {
     "data": {
      "text/plain": "205"
     },
     "execution_count": 59,
     "metadata": {},
     "output_type": "execute_result"
    }
   ],
   "source": [
    "X = 99\n",
    "def func(Y):\n",
    "    X= 200\n",
    "    Z = X + Y  # these names don’t interfere with the enclosing module’s namespace\n",
    "    return Z\n",
    "\n",
    "# Local Scope Example\n",
    "func(5)"
   ]
  },
  {
   "cell_type": "code",
   "execution_count": 28,
   "metadata": {},
   "outputs": [
    {
     "name": "stdout",
     "output_type": "stream",
     "text": [
      "88\n"
     ]
    }
   ],
   "source": [
    "X = 99\n",
    "def f1():\n",
    "    X = 88\n",
    "    def f2(): # f1 generates a function and assigns it to the name f2, a local variable within f1 ’s local scope\n",
    "        print(X)\n",
    "    f2()\n",
    "\n",
    "f1()"
   ]
  },
  {
   "cell_type": "markdown",
   "metadata": {},
   "source": [
    "### Nested Functions"
   ]
  },
  {
   "cell_type": "code",
   "execution_count": 29,
   "metadata": {},
   "outputs": [],
   "source": [
    "def superFunc(N):\n",
    "    def powFunc(X):\n",
    "        return f\"{N} to the power of {X}: {X ** N}\"\n",
    "    return powFunc\n",
    "\n",
    "result = superFunc(5)"
   ]
  },
  {
   "cell_type": "code",
   "execution_count": 31,
   "metadata": {},
   "outputs": [
    {
     "name": "stdout",
     "output_type": "stream",
     "text": [
      "<class 'function'>\n",
      "<function superFunc.<locals>.powFunc at 0x000002273936A5F0>\n",
      "5 to the power of 2: 32\n"
     ]
    }
   ],
   "source": [
    "print(type(result))\n",
    "print(result)\n",
    "print(result(2)) # 5 değerini N e 2 değerini 2 yi atıyor"
   ]
  },
  {
   "cell_type": "code",
   "execution_count": 33,
   "metadata": {},
   "outputs": [],
   "source": [
    "def sortList(x):\n",
    "    return sorted(x), sorted(x, reverse=True) # Return multiple new values in a tuple"
   ]
  },
  {
   "cell_type": "code",
   "execution_count": 34,
   "metadata": {},
   "outputs": [
    {
     "name": "stdout",
     "output_type": "stream",
     "text": [
      "[2, 3, 4, 5, 9, 10] [10, 9, 5, 4, 3, 2]\n"
     ]
    }
   ],
   "source": [
    "ascList, descList = sortList([4, 3, 10, 9, 2, 5]) ##çok ilginçmiş\n",
    "print(ascList, descList)"
   ]
  },
  {
   "cell_type": "code",
   "execution_count": null,
   "metadata": {},
   "outputs": [],
   "source": [
    "def getMaxItem(seq):\n",
    "    itemFreqs = tuple((item, seq.count(item)) for item in seq)\n",
    "    sortedFreqs = sorted(itemFreqs, key=lambda x: x[1], reverse=True)[0]\n",
    "    return sortedFreqs[0], sortedFreqs[1]\n",
    "\n",
    "item, item_count = getMaxItem(['Apple', 'Banana', 'Orange', 'Apple', 'Strawberry', 'Apple', 'Orange'])\n",
    "print(item, item_count)"
   ]
  },
  {
   "cell_type": "markdown",
   "metadata": {},
   "source": [
    "### Function Arguments"
   ]
  },
  {
   "cell_type": "code",
   "execution_count": 35,
   "metadata": {},
   "outputs": [
    {
     "name": "stdout",
     "output_type": "stream",
     "text": [
      "Uncle Sam 81\n"
     ]
    }
   ],
   "source": [
    "def func_1(name, surname, age): \n",
    "    print(name, surname, age)\n",
    "    \n",
    "func_1(\"Uncle\", \"Sam\", \"81\")"
   ]
  },
  {
   "cell_type": "code",
   "execution_count": 36,
   "metadata": {},
   "outputs": [
    {
     "name": "stdout",
     "output_type": "stream",
     "text": [
      "Uncle Sam 81\n"
     ]
    }
   ],
   "source": [
    "func_1(age=81, surname=\"Sam\", name=\"Uncle\") # Keyword arguments allow us to match by name"
   ]
  },
  {
   "cell_type": "code",
   "execution_count": 37,
   "metadata": {},
   "outputs": [
    {
     "name": "stdout",
     "output_type": "stream",
     "text": [
      "Uncle Sam 81\n"
     ]
    }
   ],
   "source": [
    "def func_1(name, surname=\"Sam\", age=81):  # defaults\n",
    "    print(name, surname, age)\n",
    "\n",
    "func_1(\"Uncle\")"
   ]
  },
  {
   "cell_type": "code",
   "execution_count": 38,
   "metadata": {},
   "outputs": [],
   "source": [
    "def func(brand, model, price=0, count=0): # First 2 required\n",
    "    print((brand, model, price, count))"
   ]
  },
  {
   "cell_type": "code",
   "execution_count": 39,
   "metadata": {},
   "outputs": [
    {
     "name": "stdout",
     "output_type": "stream",
     "text": [
      "('ford', 1, 0, 5)\n"
     ]
    }
   ],
   "source": [
    "func('ford', model=1, count=5)"
   ]
  },
  {
   "cell_type": "markdown",
   "metadata": {},
   "source": [
    "#### Arbitrary Arguments Examples"
   ]
  },
  {
   "cell_type": "code",
   "execution_count": 40,
   "metadata": {},
   "outputs": [
    {
     "name": "stdout",
     "output_type": "stream",
     "text": [
      "(1, 2, 3, 4)\n",
      "(1, 2, 3, 4)\n",
      "(1, 2, 3, 4)\n"
     ]
    }
   ],
   "source": [
    "def f(*args): # all positional arguments collected into a new tuple\n",
    "    print(args)\n",
    "\n",
    "f(1, 2, 3, 4)\n",
    "f(*(1,2,3,4))\n",
    "f(*[1, 2, 3, 4])"
   ]
  },
  {
   "cell_type": "code",
   "execution_count": 41,
   "metadata": {},
   "outputs": [
    {
     "name": "stdout",
     "output_type": "stream",
     "text": [
      "{'brand': 'Ford', 'model': 'Focus', 'km': 10}\n"
     ]
    }
   ],
   "source": [
    "def f(**args): # works only for keyword aguments, collects them into a new dictionary\n",
    "    print(args)\n",
    "\n",
    "f(brand=\"Ford\", model=\"Focus\", km=10)"
   ]
  },
  {
   "cell_type": "code",
   "execution_count": 42,
   "metadata": {},
   "outputs": [
    {
     "name": "stdout",
     "output_type": "stream",
     "text": [
      "[5, 7, 9]\n",
      "[5, 7, 9]\n",
      "[5, 7, 9]\n"
     ]
    }
   ],
   "source": [
    "def createRange(**args):\n",
    "    start = args[\"start\"]\n",
    "    end = args[\"end\"]\n",
    "    step = args[\"step\"]\n",
    "    return list(range(start, end, step))\n",
    "\n",
    "params = {\"start\": 5, \"end\": 10, \"step\": 2}\n",
    "print(createRange(end=10, step=2, start=5))\n",
    "print(createRange(**{\"start\": 5, \"end\": 10, \"step\": 2}))\n",
    "print(createRange(**params))"
   ]
  },
  {
   "cell_type": "code",
   "execution_count": 43,
   "metadata": {},
   "outputs": [
    {
     "name": "stdout",
     "output_type": "stream",
     "text": [
      "1 (2, 3) {'name': 'Zeki', 'age': 24}\n"
     ]
    }
   ],
   "source": [
    "def f(a, *pargs, **kargs): # positional and keyword arguments can be combined\n",
    "    print(a, pargs, kargs)\n",
    "\n",
    "f(1, 2, 3, name=\"Zeki\", age=24)"
   ]
  },
  {
   "cell_type": "code",
   "execution_count": 44,
   "metadata": {},
   "outputs": [],
   "source": [
    "def func(a, b, c, d):\n",
    "    print(f\"a:{a}, b: {b}, c:{c}, d: {d}\")"
   ]
  },
  {
   "cell_type": "code",
   "execution_count": 45,
   "metadata": {},
   "outputs": [
    {
     "name": "stdout",
     "output_type": "stream",
     "text": [
      "a:1, b: 2, c:3, d: 4\n"
     ]
    }
   ],
   "source": [
    "func(1, 2, 3, 4)"
   ]
  },
  {
   "cell_type": "code",
   "execution_count": 46,
   "metadata": {},
   "outputs": [
    {
     "name": "stdout",
     "output_type": "stream",
     "text": [
      "a:1, b: 2, c:3, d: 4\n"
     ]
    }
   ],
   "source": [
    "func(*(1, 2), **{'d': 4, 'c': 3}) # Same as func(1, 2, d=4, c=3)"
   ]
  },
  {
   "cell_type": "code",
   "execution_count": 47,
   "metadata": {},
   "outputs": [
    {
     "name": "stdout",
     "output_type": "stream",
     "text": [
      "a:1, b: 2, c:3, d: 4\n"
     ]
    }
   ],
   "source": [
    "func(1, *(2, 3), **{'d': 4}) # Same as func(1, 2, 3, d=4)"
   ]
  },
  {
   "cell_type": "code",
   "execution_count": 48,
   "metadata": {},
   "outputs": [
    {
     "name": "stdout",
     "output_type": "stream",
     "text": [
      "a:1, b: 2, c:3, d: 4\n"
     ]
    }
   ],
   "source": [
    "func(1, c=3, *(2,), **{'d': 4}) # Same as func(1, 2, c=3, d=4)"
   ]
  },
  {
   "cell_type": "code",
   "execution_count": 49,
   "metadata": {},
   "outputs": [],
   "source": [
    "# * character as an argument has a specific meaning:\n",
    "def kwonly(a, *, b, c): # function does not accept a variable-length argument list \n",
    "                        # but still expects keywords\n",
    "    print(a, b, c)"
   ]
  },
  {
   "cell_type": "code",
   "execution_count": 50,
   "metadata": {},
   "outputs": [
    {
     "name": "stdout",
     "output_type": "stream",
     "text": [
      "abc 11 12\n"
     ]
    }
   ],
   "source": [
    "kwonly('abc',b=11, c=12)"
   ]
  },
  {
   "cell_type": "code",
   "execution_count": 51,
   "metadata": {},
   "outputs": [
    {
     "ename": "TypeError",
     "evalue": "kwonly() missing 1 required keyword-only argument: 'c'",
     "output_type": "error",
     "traceback": [
      "\u001B[1;31m---------------------------------------------------------------------------\u001B[0m",
      "\u001B[1;31mTypeError\u001B[0m                                 Traceback (most recent call last)",
      "Input \u001B[1;32mIn [51]\u001B[0m, in \u001B[0;36m<module>\u001B[1;34m\u001B[0m\n\u001B[1;32m----> 1\u001B[0m \u001B[43mkwonly\u001B[49m\u001B[43m(\u001B[49m\u001B[38;5;124;43m'\u001B[39;49m\u001B[38;5;124;43mabc\u001B[39;49m\u001B[38;5;124;43m'\u001B[39;49m\u001B[43m,\u001B[49m\u001B[43mb\u001B[49m\u001B[38;5;241;43m=\u001B[39;49m\u001B[38;5;241;43m11\u001B[39;49m\u001B[43m)\u001B[49m\n",
      "\u001B[1;31mTypeError\u001B[0m: kwonly() missing 1 required keyword-only argument: 'c'"
     ]
    }
   ],
   "source": [
    "kwonly('abc',b=11)"
   ]
  },
  {
   "cell_type": "code",
   "execution_count": 52,
   "metadata": {},
   "outputs": [
    {
     "ename": "TypeError",
     "evalue": "kwonly() takes 1 positional argument but 2 positional arguments (and 2 keyword-only arguments) were given",
     "output_type": "error",
     "traceback": [
      "\u001B[1;31m---------------------------------------------------------------------------\u001B[0m",
      "\u001B[1;31mTypeError\u001B[0m                                 Traceback (most recent call last)",
      "Input \u001B[1;32mIn [52]\u001B[0m, in \u001B[0;36m<module>\u001B[1;34m\u001B[0m\n\u001B[1;32m----> 1\u001B[0m \u001B[43mkwonly\u001B[49m\u001B[43m(\u001B[49m\u001B[38;5;124;43m'\u001B[39;49m\u001B[38;5;124;43mabc\u001B[39;49m\u001B[38;5;124;43m'\u001B[39;49m\u001B[43m,\u001B[49m\u001B[38;5;241;43m234\u001B[39;49m\u001B[43m,\u001B[49m\u001B[43mb\u001B[49m\u001B[38;5;241;43m=\u001B[39;49m\u001B[38;5;241;43m11\u001B[39;49m\u001B[43m,\u001B[49m\u001B[43m \u001B[49m\u001B[43mc\u001B[49m\u001B[38;5;241;43m=\u001B[39;49m\u001B[38;5;241;43m12\u001B[39;49m\u001B[43m)\u001B[49m\n",
      "\u001B[1;31mTypeError\u001B[0m: kwonly() takes 1 positional argument but 2 positional arguments (and 2 keyword-only arguments) were given"
     ]
    }
   ],
   "source": [
    "kwonly('abc',234,b=11, c=12) # error: no variable to accomodate \"234\""
   ]
  },
  {
   "cell_type": "markdown",
   "metadata": {},
   "source": [
    "#### Ordering rules: in a function header, keyword-only arguments must be coded before\n",
    "the **args arbitrary keywords form and after the *args arbitrary positional form, when\n",
    "both are present"
   ]
  },
  {
   "cell_type": "code",
   "execution_count": 53,
   "metadata": {},
   "outputs": [],
   "source": [
    "def f(a, *b, c=6, **d): \n",
    "    print(f\"a:{a}, b: {b}, c:{c}, d: {d}\")"
   ]
  },
  {
   "cell_type": "code",
   "execution_count": 54,
   "metadata": {},
   "outputs": [
    {
     "name": "stdout",
     "output_type": "stream",
     "text": [
      "a:1, b: (2, 3), c:7, d: {'x': 4, 'y': 5}\n"
     ]
    }
   ],
   "source": [
    "f(1, 2, 3, x=4, y=5, c=7) # Override default c value"
   ]
  },
  {
   "cell_type": "code",
   "execution_count": 55,
   "metadata": {
    "scrolled": true
   },
   "outputs": [
    {
     "ename": "SyntaxError",
     "evalue": "positional argument follows keyword argument (336603301.py, line 1)",
     "output_type": "error",
     "traceback": [
      "\u001B[1;36m  Input \u001B[1;32mIn [55]\u001B[1;36m\u001B[0m\n\u001B[1;33m    f(x=4, y=5, c=7, 1, 2, 3) # Override default c value\u001B[0m\n\u001B[1;37m                            ^\u001B[0m\n\u001B[1;31mSyntaxError\u001B[0m\u001B[1;31m:\u001B[0m positional argument follows keyword argument\n"
     ]
    }
   ],
   "source": [
    "f(x=4, y=5, c=7, 1, 2, 3) # Override default c value"
   ]
  },
  {
   "cell_type": "code",
   "execution_count": 56,
   "metadata": {},
   "outputs": [],
   "source": [
    "def f(a, c=6, *b, **d): \n",
    "    print(a, b, c, d) # c is not keyword-only here!"
   ]
  },
  {
   "cell_type": "code",
   "execution_count": 57,
   "metadata": {},
   "outputs": [
    {
     "ename": "SyntaxError",
     "evalue": "positional argument follows keyword argument (794091739.py, line 1)",
     "output_type": "error",
     "traceback": [
      "\u001B[1;36m  Input \u001B[1;32mIn [57]\u001B[1;36m\u001B[0m\n\u001B[1;33m    f(1, 2, c=7, 3, x=4, y=5)\u001B[0m\n\u001B[1;37m                            ^\u001B[0m\n\u001B[1;31mSyntaxError\u001B[0m\u001B[1;31m:\u001B[0m positional argument follows keyword argument\n"
     ]
    }
   ],
   "source": [
    "f(1, 2, c=7, 3, x=4, y=5)"
   ]
  },
  {
   "cell_type": "code",
   "execution_count": 58,
   "metadata": {},
   "outputs": [
    {
     "ename": "TypeError",
     "evalue": "f() got multiple values for argument 'c'",
     "output_type": "error",
     "traceback": [
      "\u001B[1;31m---------------------------------------------------------------------------\u001B[0m",
      "\u001B[1;31mTypeError\u001B[0m                                 Traceback (most recent call last)",
      "Input \u001B[1;32mIn [58]\u001B[0m, in \u001B[0;36m<module>\u001B[1;34m\u001B[0m\n\u001B[1;32m----> 1\u001B[0m \u001B[43mf\u001B[49m\u001B[43m(\u001B[49m\u001B[38;5;241;43m1\u001B[39;49m\u001B[43m,\u001B[49m\u001B[43m \u001B[49m\u001B[38;5;241;43m2\u001B[39;49m\u001B[43m,\u001B[49m\u001B[43m \u001B[49m\u001B[38;5;241;43m3\u001B[39;49m\u001B[43m,\u001B[49m\u001B[43m \u001B[49m\u001B[43mc\u001B[49m\u001B[38;5;241;43m=\u001B[39;49m\u001B[38;5;241;43m7\u001B[39;49m\u001B[43m,\u001B[49m\u001B[43m \u001B[49m\u001B[43mx\u001B[49m\u001B[38;5;241;43m=\u001B[39;49m\u001B[38;5;241;43m4\u001B[39;49m\u001B[43m,\u001B[49m\u001B[43m \u001B[49m\u001B[43my\u001B[49m\u001B[38;5;241;43m=\u001B[39;49m\u001B[38;5;241;43m5\u001B[39;49m\u001B[43m)\u001B[49m\n",
      "\u001B[1;31mTypeError\u001B[0m: f() got multiple values for argument 'c'"
     ]
    }
   ],
   "source": [
    "f(1, 2, 3, c=7, x=4, y=5) # Override default c value"
   ]
  },
  {
   "cell_type": "code",
   "execution_count": null,
   "outputs": [],
   "source": [],
   "metadata": {
    "collapsed": false,
    "pycharm": {
     "name": "#%%\n"
    }
   }
  }
 ],
 "metadata": {
  "kernelspec": {
   "display_name": "Python 3 (ipykernel)",
   "language": "python",
   "name": "python3"
  },
  "language_info": {
   "codemirror_mode": {
    "name": "ipython",
    "version": 3
   },
   "file_extension": ".py",
   "mimetype": "text/x-python",
   "name": "python",
   "nbconvert_exporter": "python",
   "pygments_lexer": "ipython3",
   "version": "3.9.7"
  }
 },
 "nbformat": 4,
 "nbformat_minor": 2
}