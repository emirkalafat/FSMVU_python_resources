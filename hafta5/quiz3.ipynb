{
 "cells": [
  {
   "cell_type": "code",
   "execution_count": 25,
   "metadata": {
    "collapsed": true
   },
   "outputs": [
    {
     "data": {
      "text/plain": "['Carl Elias', 'Harold Finch', 'John Reese']"
     },
     "execution_count": 25,
     "metadata": {},
     "output_type": "execute_result"
    }
   ],
   "source": [
    "database = [('John Reese', 'Computer'), ('Harold Finch', 'Mobile Phone'), ('Carl Elias', 'Knife'), ('John Reese', 'Mouse'), ('Harold Finch', 'Phone Case'), ('Carl Elias', 'Tomato'), ('John Reese', 'Keyboard'), ('Harold Finch', 'Router'), ('Carl Elias', 'Chess')]\n",
    "\n",
    "out = {falan[0] for falan in database}\n",
    "out.\n"
   ]
  },
  {
   "cell_type": "code",
   "execution_count": null,
   "outputs": [],
   "source": [
    "print(\"What is your name?\")\n",
    "print(\"What is your favorite programming language?\")"
   ],
   "metadata": {
    "collapsed": false,
    "pycharm": {
     "name": "#%%\n"
    }
   }
  },
  {
   "cell_type": "code",
   "execution_count": null,
   "outputs": [],
   "source": [
    "age = 0\n",
    "total = 0\n",
    "#def prize(age,total=0):\n",
    "while(age!='quit'):\n",
    "    print('How old are you?:')\n",
    "    if(age <3):\n",
    "        print(\"--You get in free!\")\n",
    "    elif(age > 3 and age <12):\n",
    "        print('--Your ticket is £10.')\n",
    "        total += 10\n",
    "    elif(age>12):\n",
    "        print(\"--Your ticket is £15.\")\n",
    "        total += 15\n",
    "    elif(age == 'quit'):\n",
    "        print(f\"Sum of All Tickets: {total}\")"
   ],
   "metadata": {
    "collapsed": false,
    "pycharm": {
     "name": "#%%\n",
     "is_executing": true
    }
   }
  },
  {
   "cell_type": "code",
   "execution_count": null,
   "outputs": [],
   "source": [],
   "metadata": {
    "collapsed": false,
    "pycharm": {
     "name": "#%%\n"
    }
   }
  }
 ],
 "metadata": {
  "kernelspec": {
   "display_name": "Python 3",
   "language": "python",
   "name": "python3"
  },
  "language_info": {
   "codemirror_mode": {
    "name": "ipython",
    "version": 2
   },
   "file_extension": ".py",
   "mimetype": "text/x-python",
   "name": "python",
   "nbconvert_exporter": "python",
   "pygments_lexer": "ipython2",
   "version": "2.7.6"
  }
 },
 "nbformat": 4,
 "nbformat_minor": 0
}