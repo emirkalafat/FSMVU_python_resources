{
 "cells": [
  {
   "cell_type": "markdown",
   "metadata": {},
   "source": [
    "### Classes"
   ]
  },
  {
   "cell_type": "markdown",
   "metadata": {},
   "source": [
    "### Example 1:\n",
    "\n",
    "Create basic Class and class instance"
   ]
  },
  {
   "cell_type": "code",
   "execution_count": 1,
   "metadata": {},
   "outputs": [
    {
     "name": "stdout",
     "output_type": "stream",
     "text": [
      "Ali Yılmaz mean of grades: 68.33333333333333\n",
      "Ayşe Yıldırım mean of grades: 81.66666666666667\n"
     ]
    }
   ],
   "source": [
    "class Student:\n",
    "    \n",
    "    # Variables of Student Class\n",
    "    name = \"\"\n",
    "    surname = \"\"\n",
    "    grades = None\n",
    "    \n",
    "    \"\"\"\n",
    "        The __init__() method a special method Python runs automatically whenever \n",
    "        we create a new instance based on the Student class. Similar to the \"constructor\" \n",
    "        in Java\n",
    "    \"\"\"\n",
    "    def __init__(self, name, surname):\n",
    "        # \"self\" keyword is similar to the \"this\" keyword in Java.\n",
    "        self.name = name\n",
    "        self.surname = surname\n",
    "        self.grades = []\n",
    "    \n",
    "    \"\"\"\n",
    "        Add Given grade to the grade list\n",
    "        \n",
    "        Parameters:\n",
    "            - grade : integer value\n",
    "    \"\"\"\n",
    "    def addGrade(self, grade):\n",
    "        self.grades.append(grade)\n",
    "    \n",
    "    \"\"\"\n",
    "        Calculate mean of grades\n",
    "    \"\"\"\n",
    "    def meanGrades(self):\n",
    "        return sum(self.grades) / len(self.grades)\n",
    "\n",
    "    \n",
    "    \n",
    "student1 = Student(\"Ali\", \"Yılmaz\")\n",
    "student2 = Student(\"Ayşe\", \"Yıldırım\")\n",
    "\n",
    "student1.addGrade(50)\n",
    "student1.addGrade(70)\n",
    "student1.addGrade(85)\n",
    "\n",
    "student2.addGrade(90)\n",
    "student2.addGrade(70)\n",
    "student2.addGrade(85)\n",
    "\n",
    "print(f\"{student1.name} {student1.surname} mean of grades: {student1.meanGrades()}\")\n",
    "print(f\"{student2.name} {student2.surname} mean of grades: {student2.meanGrades()}\")"
   ]
  },
  {
   "cell_type": "code",
   "execution_count": 2,
   "metadata": {},
   "outputs": [
    {
     "name": "stdout",
     "output_type": "stream",
     "text": [
      "Ali Yılmaz mean of grades: 68.33333333333333\n",
      "Ayşe Yıldırım mean of grades: 81.66666666666667\n"
     ]
    }
   ],
   "source": [
    "class Student_Alternative:\n",
    "    \n",
    "    \"\"\"\n",
    "        The __init__() method a special method Python runs automatically whenever \n",
    "        we create a new instance based on the Student class. Similar to the \"constructor\" \n",
    "        in Java\n",
    "    \"\"\"\n",
    "    def __init__(self, name, surname):\n",
    "        # \"self\" keyword is similar to the \"this\" keyword in Java.\n",
    "        self.name = name\n",
    "        self.surname = surname\n",
    "        self.grades = []\n",
    "    \n",
    "    \"\"\"\n",
    "        Add Given grade to the grade list\n",
    "        \n",
    "        Parameters:\n",
    "            - grade : integer value\n",
    "    \"\"\"\n",
    "    def addGrade(self, grade):\n",
    "        self.grades.append(grade)\n",
    "    \n",
    "    \"\"\"\n",
    "        Calculate mean of grades\n",
    "    \"\"\"\n",
    "    def meanGrades(self):\n",
    "        return sum(self.grades) / len(self.grades)\n",
    "        \n",
    "student1 = Student_Alternative(\"Ali\", \"Yılmaz\")\n",
    "student2 = Student_Alternative(\"Ayşe\", \"Yıldırım\")\n",
    "\n",
    "student1.addGrade(50)\n",
    "student1.addGrade(70)\n",
    "student1.addGrade(85)\n",
    "\n",
    "student2.addGrade(90)\n",
    "student2.addGrade(70)\n",
    "student2.addGrade(85)\n",
    "\n",
    "print(f\"{student1.name} {student1.surname} mean of grades: {student1.meanGrades()}\")\n",
    "print(f\"{student2.name} {student2.surname} mean of grades: {student2.meanGrades()}\")"
   ]
  },
  {
   "cell_type": "markdown",
   "metadata": {},
   "source": [
    "### Example 2 - Basic Car Market Example"
   ]
  },
  {
   "cell_type": "code",
   "execution_count": 6,
   "metadata": {},
   "outputs": [],
   "source": [
    "class Car:\n",
    "    \n",
    "    def __init__(self, brand, model, year):\n",
    "        self.brand = brand\n",
    "        self.model = model\n",
    "        self.year = year\n",
    "        self.km = 0\n",
    "        \n",
    "    def printInfo(self):\n",
    "        return f\"Brand:{self.brand}, Model: {self.model}, Year: {self.year}, Km: {self.km}\""
   ]
  },
  {
   "cell_type": "code",
   "execution_count": 7,
   "metadata": {},
   "outputs": [],
   "source": [
    "class CarMarket:\n",
    "    \n",
    "    def __init__(self, address):\n",
    "        self.address = address\n",
    "        self.carList = []\n",
    "    \n",
    "    \"\"\"\n",
    "        Add given car to the carList\n",
    "        \n",
    "        Parameters:\n",
    "            - car: Instance of Car Class\n",
    "    \"\"\"\n",
    "    def addCar(self, car):\n",
    "        self.carList.append(car)\n",
    "    \n",
    "    \"\"\"\n",
    "        Print Car List in the Car Market\n",
    "    \"\"\"\n",
    "    def printCarList(self):\n",
    "        for car in self.carList:\n",
    "            print(car.printInfo())"
   ]
  },
  {
   "cell_type": "code",
   "execution_count": 8,
   "metadata": {},
   "outputs": [
    {
     "name": "stdout",
     "output_type": "stream",
     "text": [
      "Brand:Hyundai, Model: Tucson, Year: 2019, Km: 0\n",
      "Brand:Ford, Model: Focus, Year: 2017, Km: 0\n",
      "\n",
      "After the change...\n",
      "\n",
      "Brand:Hyundai, Model: Tucson, Year: 2019, Km: 0\n",
      "Brand:Ford, Model: Focus, Year: 2017, Km: 100000.0\n"
     ]
    }
   ],
   "source": [
    "import copy\n",
    "hyundai = Car(\"Hyundai\", \"Tucson\", \"2019\")\n",
    "ford = Car(\"Ford\", \"Focus\", \"2017\")\n",
    "\n",
    "market = CarMarket(\"abc street\")\n",
    "market.addCar(hyundai)\n",
    "market.addCar(ford)\n",
    "\n",
    "# If you want to prevent changes\n",
    "# market.addCar(copy.deepcopy(ford))\n",
    "\n",
    "market.printCarList()\n",
    "\n",
    "ford.km = 1e5\n",
    "\n",
    "print(\"\\nAfter the change...\\n\")\n",
    "market.printCarList()\n"
   ]
  },
  {
   "cell_type": "markdown",
   "metadata": {},
   "source": [
    "### Example 3 - Library Borrowing System\n",
    "- There are multiple books that can be borrowed in the library.\n",
    "- There are multiple students in the library that can borrow books.\n",
    "- Each student can borrow only 3 books.\n",
    "- Each book has only one author.\n",
    "- There is only one book in each book.\n"
   ]
  },
  {
   "cell_type": "code",
   "execution_count": 9,
   "metadata": {},
   "outputs": [],
   "source": [
    "class Book:\n",
    "    \n",
    "    def __init__(self, name, author):\n",
    "        self.name = name\n",
    "        self.author = author\n",
    "        self.isBorrowing = False\n",
    "    \n",
    "    def printInfo(self):\n",
    "        return f\"Book Name: {self.name}, Author: {self.author.printInfo()}\""
   ]
  },
  {
   "cell_type": "code",
   "execution_count": 10,
   "metadata": {},
   "outputs": [],
   "source": [
    "class Author:\n",
    "    \n",
    "    def __init__(self, name, surname):\n",
    "        self.name = name\n",
    "        self.surname = surname\n",
    "    \n",
    "    def printInfo(self):\n",
    "        return f\"{self.name}, {self. surname}\""
   ]
  },
  {
   "cell_type": "code",
   "execution_count": 11,
   "metadata": {},
   "outputs": [],
   "source": [
    "class Student:\n",
    "    \n",
    "    def __init__(self, fullname):\n",
    "        self.fullname = fullname\n",
    "        self.borrowingCount = 0\n",
    "        self.borrowBookList = []\n",
    "    \n",
    "    \"\"\"\n",
    "        Add Book\n",
    "        \n",
    "        Parameters:\n",
    "            book: Instance of Book Class\n",
    "    \"\"\"\n",
    "    def addBook(self, book):\n",
    "        if (self.borrowingCount < 3) and (book.isBorrowing == False): \n",
    "            self.borrowBookList.append(book)\n",
    "            self.borrowingCount = self.borrowingCount + 1\n",
    "            return True\n",
    "        else:\n",
    "            print(\"You can't borrow this book.\")\n",
    "            return False\n",
    "    \n",
    "    \"\"\"\n",
    "        Return Borrowing Book List\n",
    "    \"\"\"\n",
    "    def borrowingInfo(self):\n",
    "        result = \"\"\n",
    "        for book in self.borrowBookList:\n",
    "            result = result + book.printInfo() + \"\\n\"\n",
    "        return result\n",
    "    "
   ]
  },
  {
   "cell_type": "code",
   "execution_count": 12,
   "metadata": {},
   "outputs": [],
   "source": [
    "class Library:\n",
    "    \n",
    "    def __init__(self):\n",
    "        self.bookList = []\n",
    "        self.studentList = []\n",
    "        self.givenBookCount = 0\n",
    "    \n",
    "    def addBook(self, book):\n",
    "        self.bookList.append(book)\n",
    "    \n",
    "    def addStudent(self, student):\n",
    "        self.studentList.append(student)\n",
    "    \n",
    "    \"\"\"\n",
    "        Borrow the given book to the student\n",
    "        \n",
    "        Parameters:\n",
    "            student: Borrowing Student - Student Class instance\n",
    "            book: Borrowed Book - Book Class instance\n",
    "    \"\"\"\n",
    "    def borrowBook(self, student, book):\n",
    "        if student in self.studentList:\n",
    "            \n",
    "            if book in self.bookList:\n",
    "                result = student.addBook(book)\n",
    "                \n",
    "                if result:\n",
    "                    book.isBorrowing = True\n",
    "                    self.givenBookCount = self.givenBookCount + 1\n",
    "                    print(f\"The {book.name} was given to the {student.fullname}.\")\n",
    "            else:\n",
    "                print(\"This book is not available in the library.\")\n",
    "            \n",
    "        else:\n",
    "            print(\"This user not registered to this Library.\")\n",
    "    \n",
    "    def printGivenBookList(self):\n",
    "        for student in self.studentList:\n",
    "            print(f\"\\n{student.fullname}, Borrowing Count: {student.borrowingCount}\")\n",
    "            print(f\"Book List: {student.borrowingInfo()}\")\n",
    "            print(\"*\" * 20)"
   ]
  },
  {
   "cell_type": "code",
   "execution_count": 14,
   "metadata": {},
   "outputs": [
    {
     "name": "stdout",
     "output_type": "stream",
     "text": [
      "The Lord of The Rings was given to the Ali Yılmaz.\n",
      "The Harry Potter was given to the Ali Yılmaz.\n",
      "The Fahrenheit 451 was given to the Ali Yılmaz.\n",
      "You can't borrow this book.\n",
      "------\n",
      "The The Odyssey was given to the Ayşe Yıldırım.\n",
      "The 1984 was given to the Ayşe Yıldırım.\n",
      "You can't borrow this book.\n",
      "\n",
      "Ali Yılmaz, Borrowing Count: 3\n",
      "Book List: Book Name: Lord of The Rings, Author: J.R.R, Tolkien\n",
      "Book Name: Harry Potter, Author: J.K, Rowling\n",
      "Book Name: Fahrenheit 451, Author: Ray, Bradbury\n",
      "\n",
      "********************\n",
      "\n",
      "Ayşe Yıldırım, Borrowing Count: 2\n",
      "Book List: Book Name: The Odyssey, Author: Homer, \n",
      "Book Name: 1984, Author: George, Orwell\n",
      "\n",
      "********************\n"
     ]
    }
   ],
   "source": [
    "# Instances of Author Class\n",
    "tolkien = Author(\"J.R.R\", \"Tolkien\")\n",
    "rowling = Author(\"J.K\", \"Rowling\")\n",
    "bradbury = Author(\"Ray\", \"Bradbury\")\n",
    "homer = Author(\"Homer\", \"\")\n",
    "orwell = Author(\"George\", \"Orwell\")\n",
    "\n",
    "# Instances of Book Class\n",
    "book_1 = Book(\"Lord of The Rings\", tolkien)\n",
    "book_2 = Book(\"Harry Potter\", rowling)\n",
    "book_3 = Book(\"Fahrenheit 451\", bradbury)\n",
    "book_4 = Book(\"The Odyssey\", homer)\n",
    "book_5 = Book(\"1984\", orwell)\n",
    "\n",
    "# Instances of Student Class\n",
    "ali = Student(\"Ali Yılmaz\")\n",
    "ayse = Student(\"Ayşe Yıldırım\")\n",
    "\n",
    "\n",
    "library = Library()\n",
    "# Add Books to the Library\n",
    "library.addBook(book_1)\n",
    "library.addBook(book_2)\n",
    "library.addBook(book_3)\n",
    "library.addBook(book_4)\n",
    "library.addBook(book_5)\n",
    "\n",
    "# Add Students to the Library\n",
    "library.addStudent(ali)\n",
    "library.addStudent(ayse)\n",
    "\n",
    "library.borrowBook(ali, book_1)\n",
    "library.borrowBook(ali, book_2)\n",
    "library.borrowBook(ali, book_3)\n",
    "# Expected: Error, Because ali have 3 books\n",
    "library.borrowBook(ali, book_4)\n",
    "print(\"------\")\n",
    "\n",
    "\n",
    "library.borrowBook(ayse, book_4)\n",
    "library.borrowBook(ayse, book_5)\n",
    "# Expected: Error, because the book_1 has already been given to ali\n",
    "library.borrowBook(ayse, book_1)\n",
    "\n",
    "library.printGivenBookList()"
   ]
  },
  {
   "cell_type": "code",
   "execution_count": null,
   "metadata": {},
   "outputs": [],
   "source": []
  },
  {
   "cell_type": "code",
   "execution_count": null,
   "metadata": {},
   "outputs": [],
   "source": []
  }
 ],
 "metadata": {
  "kernelspec": {
   "display_name": "Python 3 (ipykernel)",
   "language": "python",
   "name": "python3"
  },
  "language_info": {
   "codemirror_mode": {
    "name": "ipython",
    "version": 3
   },
   "file_extension": ".py",
   "mimetype": "text/x-python",
   "name": "python",
   "nbconvert_exporter": "python",
   "pygments_lexer": "ipython3",
   "version": "3.9.7"
  }
 },
 "nbformat": 4,
 "nbformat_minor": 4
}
