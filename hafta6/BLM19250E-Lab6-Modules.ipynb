{
 "cells": [
  {
   "cell_type": "markdown",
   "metadata": {},
   "source": [
    "## Storing your functions in modules"
   ]
  },
  {
   "cell_type": "markdown",
   "metadata": {},
   "source": [
    "### Example 1 - Distance Example\n",
    "\n",
    "- These metrics (Manhattan, Euclidean, Supremum etc.) use to measure the distance between two given points."
   ]
  },
  {
   "cell_type": "code",
   "execution_count": 1,
   "metadata": {},
   "outputs": [
    {
     "name": "stdout",
     "output_type": "stream",
     "text": [
      "Manhattan Distance: 5\n",
      "Supremum Distance: 3\n"
     ]
    },
    {
     "ename": "NameError",
     "evalue": "name 'euclidean' is not defined",
     "output_type": "error",
     "traceback": [
      "\u001b[0;31m---------------------------------------------------------------------------\u001b[0m",
      "\u001b[0;31mNameError\u001b[0m                                 Traceback (most recent call last)",
      "\u001b[0;32m<ipython-input-1-d4e3834ec454>\u001b[0m in \u001b[0;36m<module>\u001b[0;34m\u001b[0m\n\u001b[1;32m     11\u001b[0m \u001b[0;34m\u001b[0m\u001b[0m\n\u001b[1;32m     12\u001b[0m \u001b[0;31m# Error - Euclidean function is exists but we don't import this function.\u001b[0m\u001b[0;34m\u001b[0m\u001b[0;34m\u001b[0m\u001b[0;34m\u001b[0m\u001b[0m\n\u001b[0;32m---> 13\u001b[0;31m \u001b[0mprint\u001b[0m\u001b[0;34m(\u001b[0m\u001b[0;34mf\"Euclidean Distance: {euclidean(x1, x2, y1, y2)}\"\u001b[0m\u001b[0;34m)\u001b[0m\u001b[0;34m\u001b[0m\u001b[0;34m\u001b[0m\u001b[0m\n\u001b[0m",
      "\u001b[0;31mNameError\u001b[0m: name 'euclidean' is not defined"
     ]
    }
   ],
   "source": [
    "# Import only manhattan and supremum functions from distance.py\n",
    "from distance import manhattan, supremum\n",
    "\n",
    "x1 = 1\n",
    "y1 = 2\n",
    "x2 = 3\n",
    "y2 = 5\n",
    "\n",
    "print(f\"Manhattan Distance: {manhattan(x1, x2, y1, y2)}\")\n",
    "print(f\"Supremum Distance: {supremum(x1, x2, y1, y2)}\")\n",
    "\n",
    "# Error - Euclidean function is exists but we don't import this function.\n",
    "print(f\"Euclidean Distance: {euclidean(x1, x2, y1, y2)}\")"
   ]
  },
  {
   "cell_type": "code",
   "execution_count": 3,
   "metadata": {},
   "outputs": [
    {
     "name": "stdout",
     "output_type": "stream",
     "text": [
      "Euclidean Distance: 3.605551275463989\n",
      "Manhattan Distance: 5\n",
      "Supremum Distance: 3\n"
     ]
    }
   ],
   "source": [
    "# Import functions and variables from distance.py\n",
    "import distance as ds\n",
    "\n",
    "print(f\"Euclidean Distance: {ds.euclidean(x1, x2, y1, y2)}\")\n",
    "print(f\"Manhattan Distance: {ds.manhattan(x1, x2, y1, y2)}\")\n",
    "print(f\"Supremum Distance: {ds.supremum(x1, x2, y1, y2)}\")"
   ]
  },
  {
   "cell_type": "markdown",
   "metadata": {},
   "source": [
    "### Example 2 - Statistics Example\n",
    "\n",
    "- Let's create our own statistics functions and call them (mean, stdev, mod, median)"
   ]
  },
  {
   "cell_type": "code",
   "execution_count": 4,
   "metadata": {},
   "outputs": [
    {
     "name": "stdout",
     "output_type": "stream",
     "text": [
      "Mean of List: 3.5\n",
      "Standart Deviation of List: 1.4142135623730951\n"
     ]
    }
   ],
   "source": [
    "from mystats import mean, stdev\n",
    "\n",
    "_list = [1, 1, 2, 2, 3, 3, 3, 4, 4, 4, 4, 5, 5, 5, 5, 5]\n",
    "print(\"Mean of List:\", mean(_list))\n",
    "print(\"Standart Deviation of List:\", stdev(_list))"
   ]
  },
  {
   "cell_type": "code",
   "execution_count": 5,
   "metadata": {},
   "outputs": [
    {
     "name": "stdout",
     "output_type": "stream",
     "text": [
      "Mean of List: 3.5\n",
      "Standart Deviation of List: 1.4142135623730951\n",
      "Mod of List: 5\n",
      "Median of List: 4.0\n"
     ]
    }
   ],
   "source": [
    "import mystats\n",
    "\n",
    "print(\"Mean of List:\", mystats.mean(_list))\n",
    "print(\"Standart Deviation of List:\", mystats.stdev(_list))\n",
    "print(\"Mod of List:\", mystats.mod(_list))\n",
    "print(\"Median of List:\", mystats.median(_list))"
   ]
  },
  {
   "cell_type": "code",
   "execution_count": null,
   "metadata": {},
   "outputs": [],
   "source": []
  }
 ],
 "metadata": {
  "kernelspec": {
   "display_name": "Python 3 (ipykernel)",
   "language": "python",
   "name": "python3"
  },
  "language_info": {
   "codemirror_mode": {
    "name": "ipython",
    "version": 3
   },
   "file_extension": ".py",
   "mimetype": "text/x-python",
   "name": "python",
   "nbconvert_exporter": "python",
   "pygments_lexer": "ipython3",
   "version": "3.9.7"
  }
 },
 "nbformat": 4,
 "nbformat_minor": 4
}
