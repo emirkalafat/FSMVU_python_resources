{
 "cells": [
  {
   "cell_type": "code",
   "execution_count": 16,
   "outputs": [
    {
     "name": "stdout",
     "output_type": "stream",
     "text": [
      "[1, 4, 9]\n",
      "[49, 64, 81, 100]\n",
      "[25, 36]\n"
     ]
    }
   ],
   "source": [
    "######### YOUR CODE HERE ##########\n",
    "def squareFunction(*numbers):\n",
    "    return [i**2 for i in numbers]\n",
    "###################################\n",
    "\n",
    "\n",
    "\n",
    "### TEST INPUTS - Do not modify following field\n",
    "print(squareFunction(1, 2, 3))\n",
    "print(squareFunction(*[7, 8, 9, 10]))\n",
    "print(squareFunction(*(5, 6)))\n",
    "###############################################"
   ],
   "metadata": {
    "collapsed": false,
    "pycharm": {
     "name": "#%%\n"
    }
   }
  },
  {
   "cell_type": "code",
   "execution_count": 14,
   "outputs": [
    {
     "name": "stdout",
     "output_type": "stream",
     "text": [
      "2\n",
      "10\n"
     ]
    }
   ],
   "source": [
    "def findMinimum(*seq):\n",
    "    ### YOUR CODE HERE ###\n",
    "    min = seq[0]\n",
    "    for i in seq:\n",
    "        if i < min:\n",
    "            min = i\n",
    "    return min\n",
    "    ######################\n",
    "\n",
    "def findMaximum(*seq):\n",
    "    ### YOUR CODE HERE ###\n",
    "    max = seq[0]\n",
    "    for i in seq:\n",
    "        if i > max:\n",
    "            max = i\n",
    "    return max\n",
    "    ######################\n",
    "\n",
    "def parentFunction(func, *seq):\n",
    "    ### YOUR CODE HERE ###\n",
    "    return func(*seq)\n",
    "    ######################\n",
    "\n",
    "\n",
    "#### Do not modify following field\n",
    "print(parentFunction(findMinimum, 4, 5, 10, 2, 6))\n",
    "print(parentFunction(findMaximum, 4, 5, 10, 2, 6))\n",
    "###################################"
   ],
   "metadata": {
    "collapsed": false,
    "pycharm": {
     "name": "#%%\n"
    }
   }
  },
  {
   "cell_type": "code",
   "execution_count": 1,
   "outputs": [
    {
     "name": "stdout",
     "output_type": "stream",
     "text": [
      "Ankara is in Turkiye.\n",
      "London is in England.\n",
      "İstanbul is in Turkiye.\n"
     ]
    }
   ],
   "source": [
    "### YOUR CODE HERE ####\n",
    "def describe_city(il,ulke=''):\n",
    "    if il == 'İstanbul':\n",
    "        ulke = 'Turkiye'\n",
    "    elif il == 'Ankara':\n",
    "        ulke = 'Turkiye'\n",
    "    print(f\"{il} is in {ulke}.\")\n",
    "\n",
    "#######################\n",
    "\n",
    "### Do not modify following field\n",
    "describe_city('Ankara')\n",
    "describe_city('London', 'England')\n",
    "describe_city('İstanbul')\n",
    "##################################"
   ],
   "metadata": {
    "collapsed": false,
    "pycharm": {
     "name": "#%%\n"
    }
   }
  },
  {
   "cell_type": "code",
   "execution_count": null,
   "outputs": [],
   "source": [],
   "metadata": {
    "collapsed": false,
    "pycharm": {
     "name": "#%%\n"
    }
   }
  }
 ],
 "metadata": {
  "kernelspec": {
   "display_name": "Python 3",
   "language": "python",
   "name": "python3"
  },
  "language_info": {
   "codemirror_mode": {
    "name": "ipython",
    "version": 2
   },
   "file_extension": ".py",
   "mimetype": "text/x-python",
   "name": "python",
   "nbconvert_exporter": "python",
   "pygments_lexer": "ipython2",
   "version": "2.7.6"
  }
 },
 "nbformat": 4,
 "nbformat_minor": 0
}