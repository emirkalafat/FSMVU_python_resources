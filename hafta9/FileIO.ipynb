{
 "cells": [
  {
   "cell_type": "markdown",
   "metadata": {},
   "source": [
    "### Reading an Entire File"
   ]
  },
  {
   "cell_type": "code",
   "execution_count": 1,
   "metadata": {},
   "outputs": [
    {
     "name": "stdout",
     "output_type": "stream",
     "text": [
      "Python Programming Language\n",
      "Second Line\n",
      "Third Line\n"
     ]
    }
   ],
   "source": [
    "# Text File still open,\n",
    "content = open('first_file.txt')\n",
    "print(content.read())"
   ]
  },
  {
   "cell_type": "code",
   "execution_count": 2,
   "metadata": {},
   "outputs": [
    {
     "name": "stdout",
     "output_type": "stream",
     "text": [
      "Python Programming Language\n",
      "Second Line\n",
      "Third Line\n",
      "<class 'str'>\n"
     ]
    },
    {
     "ename": "ValueError",
     "evalue": "I/O operation on closed file.",
     "output_type": "error",
     "traceback": [
      "\u001B[0;31m---------------------------------------------------------------------------\u001B[0m",
      "\u001B[0;31mValueError\u001B[0m                                Traceback (most recent call last)",
      "\u001B[0;32m<ipython-input-2-a1192b54cd82>\u001B[0m in \u001B[0;36m<module>\u001B[0;34m\u001B[0m\n\u001B[1;32m      5\u001B[0m \u001B[0mcontent\u001B[0m\u001B[0;34m.\u001B[0m\u001B[0mclose\u001B[0m\u001B[0;34m(\u001B[0m\u001B[0;34m)\u001B[0m\u001B[0;34m\u001B[0m\u001B[0;34m\u001B[0m\u001B[0m\n\u001B[1;32m      6\u001B[0m \u001B[0;34m\u001B[0m\u001B[0m\n\u001B[0;32m----> 7\u001B[0;31m \u001B[0mprint\u001B[0m\u001B[0;34m(\u001B[0m\u001B[0mcontent\u001B[0m\u001B[0;34m.\u001B[0m\u001B[0mread\u001B[0m\u001B[0;34m(\u001B[0m\u001B[0;34m)\u001B[0m\u001B[0;34m)\u001B[0m \u001B[0;31m# Expected: Error, Because file was closed.\u001B[0m\u001B[0;34m\u001B[0m\u001B[0;34m\u001B[0m\u001B[0m\n\u001B[0m",
      "\u001B[0;31mValueError\u001B[0m: I/O operation on closed file."
     ]
    }
   ],
   "source": [
    "content = open('first_file.txt')\n",
    "data = content.read()\n",
    "print(data)\n",
    "print(type(data))\n",
    "content.close()\n",
    "\n",
    "print(content.read()) # Expected: Error, Because file was closed."
   ]
  },
  {
   "cell_type": "markdown",
   "metadata": {},
   "source": [
    "### Alternative: Reading an Entire File"
   ]
  },
  {
   "cell_type": "code",
   "execution_count": 4,
   "metadata": {},
   "outputs": [
    {
     "name": "stdout",
     "output_type": "stream",
     "text": [
      "Python Programming Language\n",
      "Second Line\n",
      "Third Line\n"
     ]
    },
    {
     "ename": "ValueError",
     "evalue": "I/O operation on closed file.",
     "output_type": "error",
     "traceback": [
      "\u001B[0;31m---------------------------------------------------------------------------\u001B[0m",
      "\u001B[0;31mValueError\u001B[0m                                Traceback (most recent call last)",
      "\u001B[0;32m<ipython-input-4-ceac1875c895>\u001B[0m in \u001B[0;36m<module>\u001B[0;34m\u001B[0m\n\u001B[1;32m      5\u001B[0m \u001B[0;34m\u001B[0m\u001B[0m\n\u001B[1;32m      6\u001B[0m \u001B[0;34m\u001B[0m\u001B[0m\n\u001B[0;32m----> 7\u001B[0;31m \u001B[0mprint\u001B[0m\u001B[0;34m(\u001B[0m\u001B[0mcontent\u001B[0m\u001B[0;34m.\u001B[0m\u001B[0mread\u001B[0m\u001B[0;34m(\u001B[0m\u001B[0;34m)\u001B[0m\u001B[0;34m)\u001B[0m \u001B[0;31m# Expected: Error, Because file was closed.\u001B[0m\u001B[0;34m\u001B[0m\u001B[0;34m\u001B[0m\u001B[0m\n\u001B[0m",
      "\u001B[0;31mValueError\u001B[0m: I/O operation on closed file."
     ]
    }
   ],
   "source": [
    "# Open File and then close it.\n",
    "with open('first_file.txt') as file_object: \n",
    "    contents = file_object.read() \n",
    "    print(contents)\n",
    "\n",
    "\n",
    "print(content.read()) # Expected: Error, Because file was closed."
   ]
  },
  {
   "cell_type": "markdown",
   "metadata": {},
   "source": [
    "### Reading Line by Line"
   ]
  },
  {
   "cell_type": "code",
   "execution_count": 5,
   "metadata": {},
   "outputs": [
    {
     "name": "stdout",
     "output_type": "stream",
     "text": [
      "Python Programming Language\n",
      "\n",
      "Second Line\n",
      "\n",
      "Third Line\n"
     ]
    }
   ],
   "source": [
    "filename = 'first_file.txt'\n",
    "with open(filename) as file_object:\n",
    "    for line in file_object:\n",
    "        print(line)"
   ]
  },
  {
   "cell_type": "code",
   "execution_count": 6,
   "metadata": {},
   "outputs": [
    {
     "name": "stdout",
     "output_type": "stream",
     "text": [
      "['Python Programming Language\\n', 'Second Line\\n', 'Third Line']\n"
     ]
    }
   ],
   "source": [
    "filename = 'first_file.txt'\n",
    "with open(filename) as file_object:\n",
    "    lines = file_object.readlines()\n",
    "\n",
    "print(lines)"
   ]
  },
  {
   "cell_type": "code",
   "execution_count": 7,
   "metadata": {},
   "outputs": [
    {
     "name": "stdout",
     "output_type": "stream",
     "text": [
      "['Python Programming Language\\n', 'Second Line\\n', 'Third Line']\n",
      "<class 'list'>\n"
     ]
    }
   ],
   "source": [
    "filename = 'first_file.txt'\n",
    "\n",
    "file = open(filename)\n",
    "lines = file.readlines() # Return List\n",
    "file.close()\n",
    "\n",
    "print(lines)\n",
    "print(type(lines))"
   ]
  },
  {
   "cell_type": "markdown",
   "metadata": {},
   "source": [
    "### Writing to an Empty File"
   ]
  },
  {
   "cell_type": "code",
   "execution_count": 8,
   "metadata": {},
   "outputs": [],
   "source": [
    "filename = 'second_file.txt'\n",
    "\n",
    "# open(file_name, mode=read,write etc.)\n",
    "# See all parameters: https://www.programiz.com/python-programming/methods/built-in/open\n",
    "with open(filename, 'w') as file_object:\n",
    "    file_object.write(\"Python File IO.\\n\")"
   ]
  },
  {
   "cell_type": "code",
   "execution_count": 9,
   "metadata": {},
   "outputs": [
    {
     "name": "stdout",
     "output_type": "stream",
     "text": [
      "['Python File IO.\\n']\n"
     ]
    }
   ],
   "source": [
    "filename = 'second_file.txt'\n",
    "\n",
    "with open(filename) as file_object:\n",
    "    lines = file_object.readlines()\n",
    "\n",
    "print(lines)"
   ]
  },
  {
   "cell_type": "markdown",
   "metadata": {},
   "source": [
    "### Appending to a File"
   ]
  },
  {
   "cell_type": "code",
   "execution_count": 10,
   "metadata": {},
   "outputs": [],
   "source": [
    "filename = 'second_file.txt'\n",
    "\n",
    "# Append Mode\n",
    "with open(filename, 'a') as file_object:\n",
    "    file_object.write(\"Appended Text\\n\")"
   ]
  },
  {
   "cell_type": "code",
   "execution_count": 12,
   "metadata": {},
   "outputs": [
    {
     "name": "stdout",
     "output_type": "stream",
     "text": [
      "['Python File IO.\\n', 'Appended Text\\n']\n"
     ]
    }
   ],
   "source": [
    "filename = 'second_file.txt'\n",
    "\n",
    "with open(filename) as file_object:\n",
    "    lines = file_object.readlines()\n",
    "\n",
    "print(lines)"
   ]
  },
  {
   "cell_type": "markdown",
   "metadata": {},
   "source": [
    "### Bonus: Pickle\n",
    "\n",
    "The pickle module implements binary protocols for serializing and de-serializing a Python object structure. “Pickling” is the process whereby a Python object hierarchy is converted into a byte stream, and “unpickling” is the inverse operation, whereby a byte stream (from a binary file or bytes-like object) is converted back into an object hierarchy."
   ]
  },
  {
   "cell_type": "markdown",
   "metadata": {},
   "source": [
    "### Pickle Dictionary Example"
   ]
  },
  {
   "cell_type": "code",
   "execution_count": 13,
   "metadata": {},
   "outputs": [
    {
     "name": "stdout",
     "output_type": "stream",
     "text": [
      "test_dict: {'0': 0, '1': 1, '2': 4, '3': 9, '4': 16}\n"
     ]
    }
   ],
   "source": [
    "# Dictionary Example with pickle\n",
    "import pickle\n",
    "test_dict = {str(i) : i**2 for i in range(5)}\n",
    "print(f\"test_dict: {test_dict}\")\n",
    "\n",
    "# Write Dictionary to Pickle File\n",
    "with open('dict_file.pickle', 'wb') as pickle_file:\n",
    "    # source, destination\n",
    "    pickle.dump(test_dict, pickle_file)"
   ]
  },
  {
   "cell_type": "code",
   "execution_count": 16,
   "metadata": {},
   "outputs": [
    {
     "name": "stdout",
     "output_type": "stream",
     "text": [
      "{'0': 0, '1': 1, '2': 4, '3': 9, '4': 16}\n"
     ]
    }
   ],
   "source": [
    "# Read Pickle, Pickle File to Dictionary\n",
    "with open('dict_file.pickle', 'rb') as pickle_file:\n",
    "    result = pickle.load(pickle_file)\n",
    "\n",
    "print(result)"
   ]
  },
  {
   "cell_type": "markdown",
   "metadata": {},
   "source": [
    "### Pickle List Example"
   ]
  },
  {
   "cell_type": "code",
   "execution_count": 17,
   "metadata": {},
   "outputs": [
    {
     "name": "stdout",
     "output_type": "stream",
     "text": [
      "test_list: [0, 1, 4, 9, 16]\n"
     ]
    }
   ],
   "source": [
    "# Dictionary Example with pickle\n",
    "import pickle\n",
    "test_list = [i**2 for i in range(5)]\n",
    "print(f\"test_list: {test_list}\")\n",
    "\n",
    "# Write List to Pickle File\n",
    "with open('list_file.pickle', 'wb') as pickle_file:\n",
    "    # source, destination\n",
    "    pickle.dump(test_list, pickle_file)"
   ]
  },
  {
   "cell_type": "code",
   "execution_count": 18,
   "metadata": {},
   "outputs": [
    {
     "name": "stdout",
     "output_type": "stream",
     "text": [
      "[0, 1, 4, 9, 16]\n"
     ]
    }
   ],
   "source": [
    "# Read Pickle, Pickle File to Dictionary\n",
    "with open('list_file.pickle', 'rb') as pickle_file:\n",
    "    test_list = pickle.load(pickle_file)\n",
    "\n",
    "print(test_list)"
   ]
  },
  {
   "cell_type": "code",
   "execution_count": 19,
   "metadata": {},
   "outputs": [],
   "source": [
    "class Person:\n",
    "    \n",
    "    def __init__(self, name, surname):\n",
    "        self.name = name\n",
    "        self.surname = surname\n",
    "    \n",
    "person_1 = Person('Monty', 'Python')\n",
    "person_2 = Person('Person', 'Class')\n",
    "\n",
    "person_list = [person_1, person_2]\n",
    "\n",
    "with open('class_file.pickle', 'wb') as pickle_file:\n",
    "    # source, destination\n",
    "    pickle.dump(person_list, pickle_file)"
   ]
  },
  {
   "cell_type": "code",
   "execution_count": 23,
   "metadata": {},
   "outputs": [
    {
     "name": "stdout",
     "output_type": "stream",
     "text": [
      "[<__main__.Person object at 0x1097aac50>, <__main__.Person object at 0x1095b8a50>]\n",
      "Person - Class\n"
     ]
    }
   ],
   "source": [
    "with open('class_file.pickle', 'rb') as pickle_file:\n",
    "    pickle_list = pickle.load(pickle_file)\n",
    "\n",
    "print(pickle_list)\n",
    "\n",
    "print(pickle_list[1].name, '-', pickle_list[1].surname)"
   ]
  },
  {
   "cell_type": "markdown",
   "metadata": {},
   "source": [
    "### JSON"
   ]
  },
  {
   "cell_type": "code",
   "execution_count": 24,
   "metadata": {},
   "outputs": [],
   "source": [
    "import json\n",
    "with open('json_file.json', 'w') as pickle_file:\n",
    "    # source, destination\n",
    "    json.dump([i for i in range(10)], pickle_file)"
   ]
  },
  {
   "cell_type": "code",
   "execution_count": 25,
   "metadata": {},
   "outputs": [
    {
     "name": "stdout",
     "output_type": "stream",
     "text": [
      "[0, 1, 2, 3, 4, 5, 6, 7, 8, 9]\n",
      "<class 'list'>\n"
     ]
    }
   ],
   "source": [
    "with open('json_file.json') as f_obj:\n",
    "    json_result = json.load(f_obj)\n",
    "\n",
    "print(json_result)\n",
    "print(type(json_result))"
   ]
  },
  {
   "cell_type": "markdown",
   "metadata": {},
   "source": [
    "### Comparison\n",
    "https://gist.github.com/marians/f1314446b8bf4d34e782"
   ]
  },
  {
   "cell_type": "code",
   "execution_count": null,
   "metadata": {},
   "outputs": [],
   "source": []
  }
 ],
 "metadata": {
  "kernelspec": {
   "display_name": "Python 3",
   "language": "python",
   "name": "python3"
  },
  "language_info": {
   "codemirror_mode": {
    "name": "ipython",
    "version": 3
   },
   "file_extension": ".py",
   "mimetype": "text/x-python",
   "name": "python",
   "nbconvert_exporter": "python",
   "pygments_lexer": "ipython3",
   "version": "3.7.6"
  }
 },
 "nbformat": 4,
 "nbformat_minor": 4
}