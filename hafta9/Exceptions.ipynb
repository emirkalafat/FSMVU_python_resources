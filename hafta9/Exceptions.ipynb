{
 "cells": [
  {
   "cell_type": "markdown",
   "metadata": {},
   "source": [
    "### Exceptions\n",
    "\n",
    "### Handling the IndexError Exception"
   ]
  },
  {
   "cell_type": "code",
   "execution_count": 1,
   "metadata": {},
   "outputs": [
    {
     "ename": "IndexError",
     "evalue": "list index out of range",
     "output_type": "error",
     "traceback": [
      "\u001b[0;31m---------------------------------------------------------------------------\u001b[0m",
      "\u001b[0;31mIndexError\u001b[0m                                Traceback (most recent call last)",
      "\u001b[0;32m<ipython-input-1-e60885a24834>\u001b[0m in \u001b[0;36m<module>\u001b[0;34m\u001b[0m\n\u001b[1;32m      1\u001b[0m \u001b[0m_list\u001b[0m \u001b[0;34m=\u001b[0m \u001b[0;34m[\u001b[0m\u001b[0;36m5\u001b[0m\u001b[0;34m,\u001b[0m \u001b[0;36m10\u001b[0m\u001b[0;34m,\u001b[0m \u001b[0;36m15\u001b[0m\u001b[0;34m,\u001b[0m \u001b[0;36m3\u001b[0m\u001b[0;34m]\u001b[0m\u001b[0;34m\u001b[0m\u001b[0;34m\u001b[0m\u001b[0m\n\u001b[0;32m----> 2\u001b[0;31m \u001b[0m_list\u001b[0m\u001b[0;34m[\u001b[0m\u001b[0;36m5\u001b[0m\u001b[0;34m]\u001b[0m\u001b[0;34m\u001b[0m\u001b[0;34m\u001b[0m\u001b[0m\n\u001b[0m",
      "\u001b[0;31mIndexError\u001b[0m: list index out of range"
     ]
    }
   ],
   "source": [
    "_list = [5, 10, 15, 3]\n",
    "_list[5]"
   ]
  },
  {
   "cell_type": "code",
   "execution_count": 2,
   "metadata": {},
   "outputs": [
    {
     "name": "stdout",
     "output_type": "stream",
     "text": [
      "Index out of bounds.\n"
     ]
    }
   ],
   "source": [
    "try:\n",
    "    _list = [5, 10, 15, 3]\n",
    "    _list[5]\n",
    "except IndexError:\n",
    "    print('Index out of bounds.')"
   ]
  },
  {
   "cell_type": "code",
   "execution_count": 3,
   "metadata": {},
   "outputs": [
    {
     "name": "stdout",
     "output_type": "stream",
     "text": [
      "Index out of bounds.\n"
     ]
    }
   ],
   "source": [
    "try:\n",
    "    _list = [5, 10, 15, 3]\n",
    "    _list[5]\n",
    "except:\n",
    "    print('Index out of bounds.')"
   ]
  },
  {
   "cell_type": "markdown",
   "metadata": {},
   "source": [
    "### Handling the KeyError Exception"
   ]
  },
  {
   "cell_type": "code",
   "execution_count": 5,
   "metadata": {},
   "outputs": [
    {
     "name": "stdout",
     "output_type": "stream",
     "text": [
      "Enter the key:Name\n",
      "John\n",
      "Enter the key:salary\n",
      "{'Name': 'John', 'Surname': 'Bayley', 'Age': 30, 'salary': None}\n"
     ]
    }
   ],
   "source": [
    "person = {'Name': 'John', 'Surname': 'Bayley', 'Age': 30}\n",
    "key = \"\"\n",
    "try:\n",
    "    while key != 'quit':\n",
    "        key = input('Enter the key:')\n",
    "        print(person[key])\n",
    "except KeyError:\n",
    "    person[key] = None\n",
    "\n",
    "print(person)"
   ]
  },
  {
   "cell_type": "markdown",
   "metadata": {},
   "source": [
    "### Handling the FileNotFoundError Exception"
   ]
  },
  {
   "cell_type": "code",
   "execution_count": 9,
   "metadata": {},
   "outputs": [
    {
     "name": "stdout",
     "output_type": "stream",
     "text": [
      "Sum of List:45\n"
     ]
    }
   ],
   "source": [
    "import json\n",
    "filename = 'json_file.json'\n",
    "\n",
    "with open(filename, 'w') as f_obj:\n",
    "    json.dump([i for i in range(10)],f_obj)\n",
    "\n",
    "try:\n",
    "    with open(filename) as f_obj:\n",
    "        contents = json.load(f_obj)\n",
    "except FileNotFoundError:\n",
    "    print(f\"Sorry, the file {filename} does not exist.\")\n",
    "else:\n",
    "    print(f'Sum of List:{sum(contents)}')"
   ]
  },
  {
   "cell_type": "markdown",
   "metadata": {},
   "source": [
    "### Failing Silently"
   ]
  },
  {
   "cell_type": "code",
   "execution_count": 12,
   "metadata": {},
   "outputs": [
    {
     "name": "stdout",
     "output_type": "stream",
     "text": [
      "json_file.json - [0, 1, 2, 3, 4, 5, 6, 7, 8, 9]\n"
     ]
    }
   ],
   "source": [
    "import json\n",
    "def readFiles(filename):\n",
    "    try:\n",
    "        with open(filename) as f_obj:\n",
    "            contents = json.load(f_obj)\n",
    "        print(f\"{filename} - {contents}\")\n",
    "    except FileNotFoundError:\n",
    "        pass\n",
    "\n",
    "filenames = ['json_file.json', 'not_found.json', 'not_found_2.json']\n",
    "for filename in filenames:\n",
    "    readFiles(filename)"
   ]
  },
  {
   "cell_type": "code",
   "execution_count": null,
   "metadata": {},
   "outputs": [],
   "source": []
  }
 ],
 "metadata": {
  "kernelspec": {
   "display_name": "Python 3",
   "language": "python",
   "name": "python3"
  },
  "language_info": {
   "codemirror_mode": {
    "name": "ipython",
    "version": 3
   },
   "file_extension": ".py",
   "mimetype": "text/x-python",
   "name": "python",
   "nbconvert_exporter": "python",
   "pygments_lexer": "ipython3",
   "version": "3.7.6"
  }
 },
 "nbformat": 4,
 "nbformat_minor": 4
}
